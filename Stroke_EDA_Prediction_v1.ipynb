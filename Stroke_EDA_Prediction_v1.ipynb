{
 "cells": [
  {
   "cell_type": "markdown",
   "id": "13725ed3",
   "metadata": {
    "papermill": {
     "duration": 0.016535,
     "end_time": "2024-07-10T06:02:09.825103",
     "exception": false,
     "start_time": "2024-07-10T06:02:09.808568",
     "status": "completed"
    },
    "tags": []
   },
   "source": [
    "# Stroke Prediction"
   ]
  },
  {
   "cell_type": "markdown",
   "id": "ae088e1a",
   "metadata": {
    "papermill": {
     "duration": 0.014372,
     "end_time": "2024-07-10T06:02:09.853879",
     "exception": false,
     "start_time": "2024-07-10T06:02:09.839507",
     "status": "completed"
    },
    "tags": []
   },
   "source": [
    "## Features Information"
   ]
  },
  {
   "cell_type": "markdown",
   "id": "7b27f7b0",
   "metadata": {
    "papermill": {
     "duration": 0.013912,
     "end_time": "2024-07-10T06:02:09.882637",
     "exception": false,
     "start_time": "2024-07-10T06:02:09.868725",
     "status": "completed"
    },
    "tags": []
   },
   "source": [
    "1) id: unique identifier\n",
    "\n",
    "2) gender: \"Male\", \"Female\" or \"Other\"\n",
    "\n",
    "3) age: age of the patient\n",
    "\n",
    "4) hypertension: 0 if the patient doesn't have hypertension, 1 if the patient has hypertension\n",
    "\n",
    "5) heart_disease: 0 if the patient doesn't have any heart diseases, 1 if the patient has a heart disease\n",
    "\n",
    "6) ever_married: \"No\" or \"Yes\"\n",
    "\n",
    "7) work_type: \"children\", \"Govt_jov\", \"Never_worked\", \"Private\" or \"Self-employed\"\n",
    "\n",
    "8) Residence_type: \"Rural\" or \"Urban\"\n",
    "\n",
    "9) avg_glucose_level: average glucose level in blood\n",
    "\n",
    "10) bmi: body mass index\n",
    "\n",
    "11) smoking_status: \"formerly smoked\", \"never smoked\", \"smokes\" or \"Unknown\"*\n",
    "\n",
    "12) stroke: 1 if the patient had a stroke or 0 if not\n",
    "\n",
    "\n",
    "*Note: \"Unknown\" in smoking_status means that the information is unavailable for this patient\n",
    "\n",
    "Acknowledgements\n",
    "(Confidential Source) - Use only for educational purposes"
   ]
  },
  {
   "cell_type": "markdown",
   "id": "67780a72",
   "metadata": {
    "execution": {
     "iopub.execute_input": "2024-07-10T04:39:53.943732Z",
     "iopub.status.busy": "2024-07-10T04:39:53.942992Z",
     "iopub.status.idle": "2024-07-10T04:39:53.950021Z",
     "shell.execute_reply": "2024-07-10T04:39:53.948431Z",
     "shell.execute_reply.started": "2024-07-10T04:39:53.943692Z"
    },
    "papermill": {
     "duration": 0.013914,
     "end_time": "2024-07-10T06:02:09.910699",
     "exception": false,
     "start_time": "2024-07-10T06:02:09.896785",
     "status": "completed"
    },
    "tags": []
   },
   "source": [
    "## Import necessary libraries"
   ]
  },
  {
   "cell_type": "code",
   "execution_count": 1,
   "id": "1cab232f",
   "metadata": {},
   "outputs": [
    {
     "name": "stdout",
     "output_type": "stream",
     "text": [
      "Defaulting to user installation because normal site-packages is not writeable\n",
      "Requirement already satisfied: xgboost in /Users/Zeryan/Library/Python/3.9/lib/python/site-packages (2.1.0)\n",
      "Requirement already satisfied: numpy in /Users/Zeryan/Library/Python/3.9/lib/python/site-packages (from xgboost) (1.26.4)\n",
      "Requirement already satisfied: scipy in /Users/Zeryan/Library/Python/3.9/lib/python/site-packages (from xgboost) (1.13.0)\n"
     ]
    }
   ],
   "source": [
    "!pip install xgboost\n"
   ]
  },
  {
   "cell_type": "code",
   "execution_count": 2,
   "id": "f8d2ca80",
   "metadata": {},
   "outputs": [
    {
     "name": "stdout",
     "output_type": "stream",
     "text": [
      "Defaulting to user installation because normal site-packages is not writeable\n",
      "Requirement already satisfied: imblearn in /Users/Zeryan/Library/Python/3.9/lib/python/site-packages (0.0)\n",
      "Requirement already satisfied: imbalanced-learn in /Users/Zeryan/Library/Python/3.9/lib/python/site-packages (from imblearn) (0.12.3)\n",
      "Requirement already satisfied: numpy>=1.17.3 in /Users/Zeryan/Library/Python/3.9/lib/python/site-packages (from imbalanced-learn->imblearn) (1.26.4)\n",
      "Requirement already satisfied: scipy>=1.5.0 in /Users/Zeryan/Library/Python/3.9/lib/python/site-packages (from imbalanced-learn->imblearn) (1.13.0)\n",
      "Requirement already satisfied: scikit-learn>=1.0.2 in /Users/Zeryan/Library/Python/3.9/lib/python/site-packages (from imbalanced-learn->imblearn) (1.4.2)\n",
      "Requirement already satisfied: joblib>=1.1.1 in /Users/Zeryan/Library/Python/3.9/lib/python/site-packages (from imbalanced-learn->imblearn) (1.4.0)\n",
      "Requirement already satisfied: threadpoolctl>=2.0.0 in /Users/Zeryan/Library/Python/3.9/lib/python/site-packages (from imbalanced-learn->imblearn) (3.4.0)\n"
     ]
    }
   ],
   "source": [
    "!pip install imblearn"
   ]
  },
  {
   "cell_type": "code",
   "execution_count": 3,
   "id": "6254e0ba",
   "metadata": {},
   "outputs": [
    {
     "name": "stdout",
     "output_type": "stream",
     "text": [
      "Defaulting to user installation because normal site-packages is not writeable\n",
      "Requirement already satisfied: shap in /Users/Zeryan/Library/Python/3.9/lib/python/site-packages (0.46.0)\n",
      "Requirement already satisfied: numpy in /Users/Zeryan/Library/Python/3.9/lib/python/site-packages (from shap) (1.26.4)\n",
      "Requirement already satisfied: scipy in /Users/Zeryan/Library/Python/3.9/lib/python/site-packages (from shap) (1.13.0)\n",
      "Requirement already satisfied: scikit-learn in /Users/Zeryan/Library/Python/3.9/lib/python/site-packages (from shap) (1.4.2)\n",
      "Requirement already satisfied: pandas in /Users/Zeryan/Library/Python/3.9/lib/python/site-packages (from shap) (1.5.3)\n",
      "Requirement already satisfied: tqdm>=4.27.0 in /Users/Zeryan/Library/Python/3.9/lib/python/site-packages (from shap) (4.66.2)\n",
      "Requirement already satisfied: packaging>20.9 in /Users/Zeryan/Library/Python/3.9/lib/python/site-packages (from shap) (23.2)\n",
      "Requirement already satisfied: slicer==0.0.8 in /Users/Zeryan/Library/Python/3.9/lib/python/site-packages (from shap) (0.0.8)\n",
      "Requirement already satisfied: numba in /Users/Zeryan/Library/Python/3.9/lib/python/site-packages (from shap) (0.60.0)\n",
      "Requirement already satisfied: cloudpickle in /Users/Zeryan/Library/Python/3.9/lib/python/site-packages (from shap) (3.0.0)\n",
      "Requirement already satisfied: llvmlite<0.44,>=0.43.0dev0 in /Users/Zeryan/Library/Python/3.9/lib/python/site-packages (from numba->shap) (0.43.0)\n",
      "Requirement already satisfied: python-dateutil>=2.8.1 in /Users/Zeryan/Library/Python/3.9/lib/python/site-packages (from pandas->shap) (2.9.0.post0)\n",
      "Requirement already satisfied: pytz>=2020.1 in /Users/Zeryan/Library/Python/3.9/lib/python/site-packages (from pandas->shap) (2024.1)\n",
      "Requirement already satisfied: joblib>=1.2.0 in /Users/Zeryan/Library/Python/3.9/lib/python/site-packages (from scikit-learn->shap) (1.4.0)\n",
      "Requirement already satisfied: threadpoolctl>=2.0.0 in /Users/Zeryan/Library/Python/3.9/lib/python/site-packages (from scikit-learn->shap) (3.4.0)\n",
      "Requirement already satisfied: six>=1.5 in /Library/Developer/CommandLineTools/Library/Frameworks/Python3.framework/Versions/3.9/lib/python3.9/site-packages (from python-dateutil>=2.8.1->pandas->shap) (1.15.0)\n"
     ]
    }
   ],
   "source": [
    "!pip install shap"
   ]
  },
  {
   "cell_type": "code",
   "execution_count": 4,
   "id": "297bf742",
   "metadata": {},
   "outputs": [
    {
     "name": "stdout",
     "output_type": "stream",
     "text": [
      "Defaulting to user installation because normal site-packages is not writeable\n",
      "Requirement already satisfied: optuna in /Users/Zeryan/Library/Python/3.9/lib/python/site-packages (3.6.1)\n",
      "Requirement already satisfied: alembic>=1.5.0 in /Users/Zeryan/Library/Python/3.9/lib/python/site-packages (from optuna) (1.13.2)\n",
      "Requirement already satisfied: colorlog in /Users/Zeryan/Library/Python/3.9/lib/python/site-packages (from optuna) (6.8.2)\n",
      "Requirement already satisfied: numpy in /Users/Zeryan/Library/Python/3.9/lib/python/site-packages (from optuna) (1.26.4)\n",
      "Requirement already satisfied: packaging>=20.0 in /Users/Zeryan/Library/Python/3.9/lib/python/site-packages (from optuna) (23.2)\n",
      "Requirement already satisfied: sqlalchemy>=1.3.0 in /Users/Zeryan/Library/Python/3.9/lib/python/site-packages (from optuna) (2.0.29)\n",
      "Requirement already satisfied: tqdm in /Users/Zeryan/Library/Python/3.9/lib/python/site-packages (from optuna) (4.66.2)\n",
      "Requirement already satisfied: PyYAML in /Users/Zeryan/Library/Python/3.9/lib/python/site-packages (from optuna) (6.0.1)\n",
      "Requirement already satisfied: Mako in /Users/Zeryan/Library/Python/3.9/lib/python/site-packages (from alembic>=1.5.0->optuna) (1.3.5)\n",
      "Requirement already satisfied: typing-extensions>=4 in /Users/Zeryan/Library/Python/3.9/lib/python/site-packages (from alembic>=1.5.0->optuna) (4.11.0)\n",
      "Requirement already satisfied: MarkupSafe>=0.9.2 in /Users/Zeryan/Library/Python/3.9/lib/python/site-packages (from Mako->alembic>=1.5.0->optuna) (2.1.5)\n"
     ]
    }
   ],
   "source": [
    "!pip install optuna"
   ]
  },
  {
   "cell_type": "code",
   "execution_count": 5,
   "id": "0d8f0be1",
   "metadata": {},
   "outputs": [
    {
     "name": "stdout",
     "output_type": "stream",
     "text": [
      "Defaulting to user installation because normal site-packages is not writeable\n",
      "Requirement already satisfied: catboost in /Users/Zeryan/Library/Python/3.9/lib/python/site-packages (1.2.5)\n",
      "Requirement already satisfied: graphviz in /Users/Zeryan/Library/Python/3.9/lib/python/site-packages (from catboost) (0.20.3)\n",
      "Requirement already satisfied: matplotlib in /Users/Zeryan/Library/Python/3.9/lib/python/site-packages (from catboost) (3.9.0rc2)\n",
      "Requirement already satisfied: numpy>=1.16.0 in /Users/Zeryan/Library/Python/3.9/lib/python/site-packages (from catboost) (1.26.4)\n",
      "Requirement already satisfied: pandas>=0.24 in /Users/Zeryan/Library/Python/3.9/lib/python/site-packages (from catboost) (1.5.3)\n",
      "Requirement already satisfied: scipy in /Users/Zeryan/Library/Python/3.9/lib/python/site-packages (from catboost) (1.13.0)\n",
      "Requirement already satisfied: plotly in /Users/Zeryan/Library/Python/3.9/lib/python/site-packages (from catboost) (5.22.0)\n",
      "Requirement already satisfied: six in /Library/Developer/CommandLineTools/Library/Frameworks/Python3.framework/Versions/3.9/lib/python3.9/site-packages (from catboost) (1.15.0)\n",
      "Requirement already satisfied: python-dateutil>=2.8.1 in /Users/Zeryan/Library/Python/3.9/lib/python/site-packages (from pandas>=0.24->catboost) (2.9.0.post0)\n",
      "Requirement already satisfied: pytz>=2020.1 in /Users/Zeryan/Library/Python/3.9/lib/python/site-packages (from pandas>=0.24->catboost) (2024.1)\n",
      "Requirement already satisfied: contourpy>=1.0.1 in /Users/Zeryan/Library/Python/3.9/lib/python/site-packages (from matplotlib->catboost) (1.2.1)\n",
      "Requirement already satisfied: cycler>=0.10 in /Users/Zeryan/Library/Python/3.9/lib/python/site-packages (from matplotlib->catboost) (0.12.1)\n",
      "Requirement already satisfied: fonttools>=4.22.0 in /Users/Zeryan/Library/Python/3.9/lib/python/site-packages (from matplotlib->catboost) (4.51.0)\n",
      "Requirement already satisfied: kiwisolver>=1.3.1 in /Users/Zeryan/Library/Python/3.9/lib/python/site-packages (from matplotlib->catboost) (1.4.5)\n",
      "Requirement already satisfied: packaging>=20.0 in /Users/Zeryan/Library/Python/3.9/lib/python/site-packages (from matplotlib->catboost) (23.2)\n",
      "Requirement already satisfied: pillow>=8 in /Users/Zeryan/Library/Python/3.9/lib/python/site-packages (from matplotlib->catboost) (10.3.0)\n",
      "Requirement already satisfied: pyparsing>=2.3.1 in /Users/Zeryan/Library/Python/3.9/lib/python/site-packages (from matplotlib->catboost) (3.1.2)\n",
      "Requirement already satisfied: importlib-resources>=3.2.0 in /Users/Zeryan/Library/Python/3.9/lib/python/site-packages (from matplotlib->catboost) (6.4.0)\n",
      "Requirement already satisfied: tenacity>=6.2.0 in /Users/Zeryan/Library/Python/3.9/lib/python/site-packages (from plotly->catboost) (8.2.3)\n",
      "Requirement already satisfied: zipp>=3.1.0 in /Users/Zeryan/Library/Python/3.9/lib/python/site-packages (from importlib-resources>=3.2.0->matplotlib->catboost) (3.18.1)\n"
     ]
    }
   ],
   "source": [
    "!pip install catboost"
   ]
  },
  {
   "cell_type": "code",
   "execution_count": 27,
   "id": "e0fb1fe3",
   "metadata": {
    "execution": {
     "iopub.execute_input": "2024-07-10T06:02:09.941971Z",
     "iopub.status.busy": "2024-07-10T06:02:09.941577Z",
     "iopub.status.idle": "2024-07-10T06:02:20.572888Z",
     "shell.execute_reply": "2024-07-10T06:02:20.571683Z"
    },
    "papermill": {
     "duration": 10.6509,
     "end_time": "2024-07-10T06:02:20.575826",
     "exception": false,
     "start_time": "2024-07-10T06:02:09.924926",
     "status": "completed"
    },
    "tags": []
   },
   "outputs": [],
   "source": [
    "import pandas as pd\n",
    "import numpy as np\n",
    "import matplotlib.pyplot as plt\n",
    "import seaborn as sns\n",
    "from sklearn.model_selection import train_test_split, GridSearchCV, StratifiedKFold, cross_val_score\n",
    "from sklearn.preprocessing import StandardScaler\n",
    "from sklearn.impute import SimpleImputer\n",
    "from sklearn.pipeline import Pipeline\n",
    "from sklearn.compose import ColumnTransformer\n",
    "from sklearn.ensemble import RandomForestClassifier\n",
    "from sklearn.ensemble import ExtraTreesClassifier\n",
    "from sklearn.ensemble import AdaBoostClassifier\n",
    "from sklearn.ensemble import HistGradientBoostingClassifier\n",
    "from sklearn.metrics import classification_report, confusion_matrix, roc_auc_score, recall_score, make_scorer\n",
    "from sklearn.metrics import precision_score, f1_score\n",
    "from xgboost import XGBClassifier\n",
    "from imblearn.over_sampling import SMOTE\n",
    "import shap\n",
    "import optuna\n",
    "from sklearn.feature_selection import SelectFromModel\n",
    "import time\n",
    "\n",
    "# Try to import CatBoostClassifier\n",
    "try:\n",
    "    from catboost import CatBoostClassifier\n",
    "except ImportError:\n",
    "    print(\"CatBoostClassifier is not installed. Skipping CatBoost optimization.\")\n",
    "    CatBoostClassifier = None"
   ]
  },
  {
   "cell_type": "code",
   "execution_count": 7,
   "id": "e6fdeb86",
   "metadata": {},
   "outputs": [],
   "source": [
    "# Load and preprocess data\n",
    "df = pd.read_csv('/Users/Zeryan/Documents/5 Github/stroke EDA-Prediction/healthcare-dataset-stroke-data.csv')"
   ]
  },
  {
   "cell_type": "code",
   "execution_count": 8,
   "id": "7c5558a5",
   "metadata": {},
   "outputs": [],
   "source": [
    "# Encode categorical variables\n",
    "df_encoded = pd.get_dummies(df, columns=['gender', 'ever_married', 'work_type', 'Residence_type', 'smoking_status'])"
   ]
  },
  {
   "cell_type": "code",
   "execution_count": 9,
   "id": "69c74137",
   "metadata": {},
   "outputs": [],
   "source": [
    "# Impute missing BMI values using a more sophisticated method (e.g., KNN imputer)\n",
    "from sklearn.impute import KNNImputer\n"
   ]
  },
  {
   "cell_type": "code",
   "execution_count": 10,
   "id": "c2f7dc81",
   "metadata": {},
   "outputs": [],
   "source": [
    "from sklearn.impute import KNNImputer\n",
    "\n",
    "imputer = KNNImputer(n_neighbors=5)\n",
    "df_encoded['bmi'] = imputer.fit_transform(df_encoded[['bmi']])"
   ]
  },
  {
   "cell_type": "code",
   "execution_count": 11,
   "id": "7045e3d9",
   "metadata": {},
   "outputs": [],
   "source": [
    "# Feature engineering\n",
    "df_encoded['age_squared'] = df_encoded['age'] ** 2\n",
    "df_encoded['bmi_category'] = pd.cut(df_encoded['bmi'], bins=[0, 18.5, 25, 30, 100], labels=['Underweight', 'Normal', 'Overweight', 'Obese'])\n",
    "df_encoded = pd.get_dummies(df_encoded, columns=['bmi_category'])"
   ]
  },
  {
   "cell_type": "code",
   "execution_count": 29,
   "id": "678c88e0",
   "metadata": {},
   "outputs": [
    {
     "data": {
      "text/html": [
       "<div>\n",
       "<style scoped>\n",
       "    .dataframe tbody tr th:only-of-type {\n",
       "        vertical-align: middle;\n",
       "    }\n",
       "\n",
       "    .dataframe tbody tr th {\n",
       "        vertical-align: top;\n",
       "    }\n",
       "\n",
       "    .dataframe thead th {\n",
       "        text-align: right;\n",
       "    }\n",
       "</style>\n",
       "<table border=\"1\" class=\"dataframe\">\n",
       "  <thead>\n",
       "    <tr style=\"text-align: right;\">\n",
       "      <th></th>\n",
       "      <th>id</th>\n",
       "      <th>age</th>\n",
       "      <th>hypertension</th>\n",
       "      <th>heart_disease</th>\n",
       "      <th>avg_glucose_level</th>\n",
       "      <th>bmi</th>\n",
       "      <th>stroke</th>\n",
       "      <th>gender_Female</th>\n",
       "      <th>gender_Male</th>\n",
       "      <th>gender_Other</th>\n",
       "      <th>...</th>\n",
       "      <th>Residence_type_Urban</th>\n",
       "      <th>smoking_status_Unknown</th>\n",
       "      <th>smoking_status_formerly smoked</th>\n",
       "      <th>smoking_status_never smoked</th>\n",
       "      <th>smoking_status_smokes</th>\n",
       "      <th>age_squared</th>\n",
       "      <th>bmi_category_Underweight</th>\n",
       "      <th>bmi_category_Normal</th>\n",
       "      <th>bmi_category_Overweight</th>\n",
       "      <th>bmi_category_Obese</th>\n",
       "    </tr>\n",
       "  </thead>\n",
       "  <tbody>\n",
       "    <tr>\n",
       "      <th>0</th>\n",
       "      <td>9046</td>\n",
       "      <td>67.0</td>\n",
       "      <td>0</td>\n",
       "      <td>1</td>\n",
       "      <td>228.69</td>\n",
       "      <td>36.600000</td>\n",
       "      <td>1</td>\n",
       "      <td>0</td>\n",
       "      <td>1</td>\n",
       "      <td>0</td>\n",
       "      <td>...</td>\n",
       "      <td>1</td>\n",
       "      <td>0</td>\n",
       "      <td>1</td>\n",
       "      <td>0</td>\n",
       "      <td>0</td>\n",
       "      <td>4489.0</td>\n",
       "      <td>0</td>\n",
       "      <td>0</td>\n",
       "      <td>0</td>\n",
       "      <td>1</td>\n",
       "    </tr>\n",
       "    <tr>\n",
       "      <th>1</th>\n",
       "      <td>51676</td>\n",
       "      <td>61.0</td>\n",
       "      <td>0</td>\n",
       "      <td>0</td>\n",
       "      <td>202.21</td>\n",
       "      <td>28.893237</td>\n",
       "      <td>1</td>\n",
       "      <td>1</td>\n",
       "      <td>0</td>\n",
       "      <td>0</td>\n",
       "      <td>...</td>\n",
       "      <td>0</td>\n",
       "      <td>0</td>\n",
       "      <td>0</td>\n",
       "      <td>1</td>\n",
       "      <td>0</td>\n",
       "      <td>3721.0</td>\n",
       "      <td>0</td>\n",
       "      <td>0</td>\n",
       "      <td>1</td>\n",
       "      <td>0</td>\n",
       "    </tr>\n",
       "    <tr>\n",
       "      <th>2</th>\n",
       "      <td>31112</td>\n",
       "      <td>80.0</td>\n",
       "      <td>0</td>\n",
       "      <td>1</td>\n",
       "      <td>105.92</td>\n",
       "      <td>32.500000</td>\n",
       "      <td>1</td>\n",
       "      <td>0</td>\n",
       "      <td>1</td>\n",
       "      <td>0</td>\n",
       "      <td>...</td>\n",
       "      <td>0</td>\n",
       "      <td>0</td>\n",
       "      <td>0</td>\n",
       "      <td>1</td>\n",
       "      <td>0</td>\n",
       "      <td>6400.0</td>\n",
       "      <td>0</td>\n",
       "      <td>0</td>\n",
       "      <td>0</td>\n",
       "      <td>1</td>\n",
       "    </tr>\n",
       "    <tr>\n",
       "      <th>3</th>\n",
       "      <td>60182</td>\n",
       "      <td>49.0</td>\n",
       "      <td>0</td>\n",
       "      <td>0</td>\n",
       "      <td>171.23</td>\n",
       "      <td>34.400000</td>\n",
       "      <td>1</td>\n",
       "      <td>1</td>\n",
       "      <td>0</td>\n",
       "      <td>0</td>\n",
       "      <td>...</td>\n",
       "      <td>1</td>\n",
       "      <td>0</td>\n",
       "      <td>0</td>\n",
       "      <td>0</td>\n",
       "      <td>1</td>\n",
       "      <td>2401.0</td>\n",
       "      <td>0</td>\n",
       "      <td>0</td>\n",
       "      <td>0</td>\n",
       "      <td>1</td>\n",
       "    </tr>\n",
       "    <tr>\n",
       "      <th>4</th>\n",
       "      <td>1665</td>\n",
       "      <td>79.0</td>\n",
       "      <td>1</td>\n",
       "      <td>0</td>\n",
       "      <td>174.12</td>\n",
       "      <td>24.000000</td>\n",
       "      <td>1</td>\n",
       "      <td>1</td>\n",
       "      <td>0</td>\n",
       "      <td>0</td>\n",
       "      <td>...</td>\n",
       "      <td>0</td>\n",
       "      <td>0</td>\n",
       "      <td>0</td>\n",
       "      <td>1</td>\n",
       "      <td>0</td>\n",
       "      <td>6241.0</td>\n",
       "      <td>0</td>\n",
       "      <td>1</td>\n",
       "      <td>0</td>\n",
       "      <td>0</td>\n",
       "    </tr>\n",
       "  </tbody>\n",
       "</table>\n",
       "<p>5 rows × 28 columns</p>\n",
       "</div>"
      ],
      "text/plain": [
       "      id   age  hypertension  heart_disease  avg_glucose_level        bmi  \\\n",
       "0   9046  67.0             0              1             228.69  36.600000   \n",
       "1  51676  61.0             0              0             202.21  28.893237   \n",
       "2  31112  80.0             0              1             105.92  32.500000   \n",
       "3  60182  49.0             0              0             171.23  34.400000   \n",
       "4   1665  79.0             1              0             174.12  24.000000   \n",
       "\n",
       "   stroke  gender_Female  gender_Male  gender_Other  ...  \\\n",
       "0       1              0            1             0  ...   \n",
       "1       1              1            0             0  ...   \n",
       "2       1              0            1             0  ...   \n",
       "3       1              1            0             0  ...   \n",
       "4       1              1            0             0  ...   \n",
       "\n",
       "   Residence_type_Urban  smoking_status_Unknown  \\\n",
       "0                     1                       0   \n",
       "1                     0                       0   \n",
       "2                     0                       0   \n",
       "3                     1                       0   \n",
       "4                     0                       0   \n",
       "\n",
       "   smoking_status_formerly smoked  smoking_status_never smoked  \\\n",
       "0                               1                            0   \n",
       "1                               0                            1   \n",
       "2                               0                            1   \n",
       "3                               0                            0   \n",
       "4                               0                            1   \n",
       "\n",
       "   smoking_status_smokes  age_squared  bmi_category_Underweight  \\\n",
       "0                      0       4489.0                         0   \n",
       "1                      0       3721.0                         0   \n",
       "2                      0       6400.0                         0   \n",
       "3                      1       2401.0                         0   \n",
       "4                      0       6241.0                         0   \n",
       "\n",
       "   bmi_category_Normal  bmi_category_Overweight  bmi_category_Obese  \n",
       "0                    0                        0                   1  \n",
       "1                    0                        1                   0  \n",
       "2                    0                        0                   1  \n",
       "3                    0                        0                   1  \n",
       "4                    1                        0                   0  \n",
       "\n",
       "[5 rows x 28 columns]"
      ]
     },
     "execution_count": 29,
     "metadata": {},
     "output_type": "execute_result"
    }
   ],
   "source": [
    "df_encoded.head()"
   ]
  },
  {
   "cell_type": "code",
   "execution_count": 12,
   "id": "e0c36d75",
   "metadata": {},
   "outputs": [],
   "source": [
    "# Split features and target\n",
    "X = df_encoded.drop(['id', 'stroke'], axis=1)\n",
    "y = df_encoded['stroke']"
   ]
  },
  {
   "cell_type": "code",
   "execution_count": 13,
   "id": "99f0695c",
   "metadata": {},
   "outputs": [],
   "source": [
    "# Split data into train and test sets\n",
    "X_train, X_test, y_train, y_test = train_test_split(X, y, test_size=0.2, random_state=42, stratify=y)\n"
   ]
  },
  {
   "cell_type": "code",
   "execution_count": 14,
   "id": "4b89a126",
   "metadata": {},
   "outputs": [],
   "source": [
    "# Apply SMOTE to handle class imbalance\n",
    "\n",
    "smote = SMOTE(random_state=42)\n",
    "X_train_resampled, y_train_resampled = smote.fit_resample(X_train, y_train)\n",
    "\n"
   ]
  },
  {
   "cell_type": "code",
   "execution_count": 15,
   "id": "764b150f",
   "metadata": {},
   "outputs": [],
   "source": [
    "# Define preprocessing steps\n",
    "numeric_features = ['age', 'avg_glucose_level', 'bmi', 'age_squared']\n",
    "numeric_transformer = Pipeline(steps=[\n",
    "    ('imputer', SimpleImputer(strategy='median')),\n",
    "    ('scaler', StandardScaler())\n",
    "])\n",
    "\n",
    "preprocessor = ColumnTransformer(\n",
    "    transformers=[\n",
    "        ('num', numeric_transformer, numeric_features)\n",
    "    ])"
   ]
  },
  {
   "cell_type": "code",
   "execution_count": 21,
   "id": "3572a9a6",
   "metadata": {},
   "outputs": [],
   "source": [
    "# Define models\n",
    "models = {\n",
    "    'Random Forest': RandomForestClassifier(random_state=42),\n",
    "    'XGBoost': XGBClassifier(random_state=42),\n",
    "    'ExtraTrees': ExtraTreesClassifier(random_state=42),\n",
    "    'AdaBoost': AdaBoostClassifier(random_state=42),\n",
    "    'Hist.Grad.Boost': HistGradientBoostingClassifier(random_state=42)\n",
    "}\n",
    "\n",
    "# Add CatBoost to models if available\n",
    "if CatBoostClassifier is not None:\n",
    "    models['CatBoost'] = CatBoostClassifier(random_state=42)"
   ]
  },
  {
   "cell_type": "code",
   "execution_count": 22,
   "id": "80a663d5",
   "metadata": {},
   "outputs": [],
   "source": [
    "# Define custom scoring metric (weighted average of recall and ROC AUC)\n",
    "def custom_scorer(estimator, X, y):\n",
    "    y_pred = estimator.predict(X)\n",
    "    recall = recall_score(y, y_pred)\n",
    "    precision = precision_score(y, y_pred)\n",
    "    f1 = f1_score(y, y_pred)\n",
    "    return (recall * 0.4) + (precision * 0.3) + (f1 * 0.3)"
   ]
  },
  {
   "cell_type": "code",
   "execution_count": 23,
   "id": "34b93d8e",
   "metadata": {},
   "outputs": [],
   "source": [
    "# Create a scorer object\n",
    "custom_scorer_obj = make_scorer(custom_scorer)"
   ]
  },
  {
   "cell_type": "code",
   "execution_count": 30,
   "id": "b780c740",
   "metadata": {},
   "outputs": [
    {
     "name": "stdout",
     "output_type": "stream",
     "text": [
      "make_scorer(custom_scorer, response_method='predict')\n"
     ]
    }
   ],
   "source": [
    "print(custom_scorer_obj)"
   ]
  },
  {
   "cell_type": "code",
   "execution_count": 28,
   "id": "cbf87cc7",
   "metadata": {},
   "outputs": [
    {
     "name": "stderr",
     "output_type": "stream",
     "text": [
      "[I 2024-07-10 03:25:52,612] A new study created in memory with name: no-name-69a69137-6f98-4cea-9eb3-33c782445566\n"
     ]
    },
    {
     "name": "stdout",
     "output_type": "stream",
     "text": [
      "\n",
      "Optimizing Random Forest...\n"
     ]
    },
    {
     "name": "stderr",
     "output_type": "stream",
     "text": [
      "/Users/Zeryan/Library/Python/3.9/lib/python/site-packages/sklearn/model_selection/_validation.py:1011: UserWarning: Scoring failed. The score on this train-test partition for these parameters will be set to nan. Details: \n",
      "Traceback (most recent call last):\n",
      "  File \"/Users/Zeryan/Library/Python/3.9/lib/python/site-packages/sklearn/metrics/_scorer.py\", line 137, in __call__\n",
      "    score = scorer._score(\n",
      "  File \"/Users/Zeryan/Library/Python/3.9/lib/python/site-packages/sklearn/metrics/_scorer.py\", line 350, in _score\n",
      "    return self._sign * self._score_func(y_true, y_pred, **scoring_kwargs)\n",
      "TypeError: custom_scorer() missing 1 required positional argument: 'y'\n",
      "\n",
      "  warnings.warn(\n",
      "/Users/Zeryan/Library/Python/3.9/lib/python/site-packages/sklearn/model_selection/_validation.py:1011: UserWarning: Scoring failed. The score on this train-test partition for these parameters will be set to nan. Details: \n",
      "Traceback (most recent call last):\n",
      "  File \"/Users/Zeryan/Library/Python/3.9/lib/python/site-packages/sklearn/metrics/_scorer.py\", line 137, in __call__\n",
      "    score = scorer._score(\n",
      "  File \"/Users/Zeryan/Library/Python/3.9/lib/python/site-packages/sklearn/metrics/_scorer.py\", line 350, in _score\n",
      "    return self._sign * self._score_func(y_true, y_pred, **scoring_kwargs)\n",
      "TypeError: custom_scorer() missing 1 required positional argument: 'y'\n",
      "\n",
      "  warnings.warn(\n",
      "/Users/Zeryan/Library/Python/3.9/lib/python/site-packages/sklearn/model_selection/_validation.py:1011: UserWarning: Scoring failed. The score on this train-test partition for these parameters will be set to nan. Details: \n",
      "Traceback (most recent call last):\n",
      "  File \"/Users/Zeryan/Library/Python/3.9/lib/python/site-packages/sklearn/metrics/_scorer.py\", line 137, in __call__\n",
      "    score = scorer._score(\n",
      "  File \"/Users/Zeryan/Library/Python/3.9/lib/python/site-packages/sklearn/metrics/_scorer.py\", line 350, in _score\n",
      "    return self._sign * self._score_func(y_true, y_pred, **scoring_kwargs)\n",
      "TypeError: custom_scorer() missing 1 required positional argument: 'y'\n",
      "\n",
      "  warnings.warn(\n",
      "/Users/Zeryan/Library/Python/3.9/lib/python/site-packages/sklearn/model_selection/_validation.py:1011: UserWarning: Scoring failed. The score on this train-test partition for these parameters will be set to nan. Details: \n",
      "Traceback (most recent call last):\n",
      "  File \"/Users/Zeryan/Library/Python/3.9/lib/python/site-packages/sklearn/metrics/_scorer.py\", line 137, in __call__\n",
      "    score = scorer._score(\n",
      "  File \"/Users/Zeryan/Library/Python/3.9/lib/python/site-packages/sklearn/metrics/_scorer.py\", line 350, in _score\n",
      "    return self._sign * self._score_func(y_true, y_pred, **scoring_kwargs)\n",
      "TypeError: custom_scorer() missing 1 required positional argument: 'y'\n",
      "\n",
      "  warnings.warn(\n",
      "/Users/Zeryan/Library/Python/3.9/lib/python/site-packages/sklearn/model_selection/_validation.py:1011: UserWarning: Scoring failed. The score on this train-test partition for these parameters will be set to nan. Details: \n",
      "Traceback (most recent call last):\n",
      "  File \"/Users/Zeryan/Library/Python/3.9/lib/python/site-packages/sklearn/metrics/_scorer.py\", line 137, in __call__\n",
      "    score = scorer._score(\n",
      "  File \"/Users/Zeryan/Library/Python/3.9/lib/python/site-packages/sklearn/metrics/_scorer.py\", line 350, in _score\n",
      "    return self._sign * self._score_func(y_true, y_pred, **scoring_kwargs)\n",
      "TypeError: custom_scorer() missing 1 required positional argument: 'y'\n",
      "\n",
      "  warnings.warn(\n",
      "[W 2024-07-10 03:26:17,246] Trial 0 failed with parameters: {'n_estimators': 764, 'max_depth': 16, 'min_samples_split': 8, 'min_samples_leaf': 6, 'max_features': 0.7507796421464966} because of the following error: The value nan is not acceptable.\n",
      "[W 2024-07-10 03:26:17,247] Trial 0 failed with value nan.\n"
     ]
    },
    {
     "ename": "ValueError",
     "evalue": "No trials are completed yet.",
     "output_type": "error",
     "traceback": [
      "\u001b[0;31m---------------------------------------------------------------------------\u001b[0m",
      "\u001b[0;31mValueError\u001b[0m                                Traceback (most recent call last)",
      "Cell \u001b[0;32mIn[28], line 100\u001b[0m\n\u001b[1;32m     95\u001b[0m     \u001b[38;5;28;01melse\u001b[39;00m:\n\u001b[1;32m     96\u001b[0m         \u001b[38;5;28mprint\u001b[39m(\u001b[38;5;124mf\u001b[39m\u001b[38;5;124m\"\u001b[39m\u001b[38;5;124mTrial \u001b[39m\u001b[38;5;132;01m{\u001b[39;00mtrial\u001b[38;5;241m.\u001b[39mnumber\u001b[38;5;132;01m}\u001b[39;00m\u001b[38;5;124m: Value: \u001b[39m\u001b[38;5;132;01m{\u001b[39;00mtrial\u001b[38;5;241m.\u001b[39mvalue\u001b[38;5;132;01m:\u001b[39;00m\u001b[38;5;124m.4f\u001b[39m\u001b[38;5;132;01m}\u001b[39;00m\u001b[38;5;124m, \u001b[39m\u001b[38;5;124m\"\u001b[39m\n\u001b[1;32m     97\u001b[0m               \u001b[38;5;124mf\u001b[39m\u001b[38;5;124m\"\u001b[39m\u001b[38;5;124mBest value: \u001b[39m\u001b[38;5;132;01m{\u001b[39;00mbest_value\u001b[38;5;132;01m}\u001b[39;00m\u001b[38;5;124m, \u001b[39m\u001b[38;5;124m\"\u001b[39m\n\u001b[1;32m     98\u001b[0m               \u001b[38;5;124mf\u001b[39m\u001b[38;5;124m\"\u001b[39m\u001b[38;5;124mElapsed time: \u001b[39m\u001b[38;5;132;01m{\u001b[39;00melapsed_time\u001b[38;5;132;01m:\u001b[39;00m\u001b[38;5;124m.2f\u001b[39m\u001b[38;5;132;01m}\u001b[39;00m\u001b[38;5;124m seconds\u001b[39m\u001b[38;5;124m\"\u001b[39m)\n\u001b[0;32m--> 100\u001b[0m \u001b[43mstudy\u001b[49m\u001b[38;5;241;43m.\u001b[39;49m\u001b[43moptimize\u001b[49m\u001b[43m(\u001b[49m\u001b[38;5;28;43;01mlambda\u001b[39;49;00m\u001b[43m \u001b[49m\u001b[43mtrial\u001b[49m\u001b[43m:\u001b[49m\u001b[43m \u001b[49m\u001b[43mobjective\u001b[49m\u001b[43m(\u001b[49m\u001b[43mtrial\u001b[49m\u001b[43m,\u001b[49m\u001b[43m \u001b[49m\u001b[38;5;28;43mtype\u001b[39;49m\u001b[43m(\u001b[49m\u001b[43mmodel\u001b[49m\u001b[43m)\u001b[49m\u001b[43m,\u001b[49m\u001b[43m \u001b[49m\u001b[43mX_train_resampled\u001b[49m\u001b[43m,\u001b[49m\u001b[43m \u001b[49m\u001b[43my_train_resampled\u001b[49m\u001b[43m)\u001b[49m\u001b[43m,\u001b[49m\u001b[43m \u001b[49m\n\u001b[1;32m    101\u001b[0m \u001b[43m               \u001b[49m\u001b[43mn_trials\u001b[49m\u001b[38;5;241;43m=\u001b[39;49m\u001b[38;5;241;43m50\u001b[39;49m\u001b[43m,\u001b[49m\u001b[43m \u001b[49m\u001b[43mcallbacks\u001b[49m\u001b[38;5;241;43m=\u001b[39;49m\u001b[43m[\u001b[49m\u001b[43mprint_callback\u001b[49m\u001b[43m]\u001b[49m\u001b[43m)\u001b[49m\n\u001b[1;32m    103\u001b[0m best_params \u001b[38;5;241m=\u001b[39m study\u001b[38;5;241m.\u001b[39mbest_params\n\u001b[1;32m    104\u001b[0m best_model \u001b[38;5;241m=\u001b[39m \u001b[38;5;28mtype\u001b[39m(model)(\u001b[38;5;241m*\u001b[39m\u001b[38;5;241m*\u001b[39mbest_params)\n",
      "File \u001b[0;32m~/Library/Python/3.9/lib/python/site-packages/optuna/study/study.py:451\u001b[0m, in \u001b[0;36mStudy.optimize\u001b[0;34m(self, func, n_trials, timeout, n_jobs, catch, callbacks, gc_after_trial, show_progress_bar)\u001b[0m\n\u001b[1;32m    348\u001b[0m \u001b[38;5;28;01mdef\u001b[39;00m \u001b[38;5;21moptimize\u001b[39m(\n\u001b[1;32m    349\u001b[0m     \u001b[38;5;28mself\u001b[39m,\n\u001b[1;32m    350\u001b[0m     func: ObjectiveFuncType,\n\u001b[0;32m   (...)\u001b[0m\n\u001b[1;32m    357\u001b[0m     show_progress_bar: \u001b[38;5;28mbool\u001b[39m \u001b[38;5;241m=\u001b[39m \u001b[38;5;28;01mFalse\u001b[39;00m,\n\u001b[1;32m    358\u001b[0m ) \u001b[38;5;241m-\u001b[39m\u001b[38;5;241m>\u001b[39m \u001b[38;5;28;01mNone\u001b[39;00m:\n\u001b[1;32m    359\u001b[0m \u001b[38;5;250m    \u001b[39m\u001b[38;5;124;03m\"\"\"Optimize an objective function.\u001b[39;00m\n\u001b[1;32m    360\u001b[0m \n\u001b[1;32m    361\u001b[0m \u001b[38;5;124;03m    Optimization is done by choosing a suitable set of hyperparameter values from a given\u001b[39;00m\n\u001b[0;32m   (...)\u001b[0m\n\u001b[1;32m    449\u001b[0m \u001b[38;5;124;03m            If nested invocation of this method occurs.\u001b[39;00m\n\u001b[1;32m    450\u001b[0m \u001b[38;5;124;03m    \"\"\"\u001b[39;00m\n\u001b[0;32m--> 451\u001b[0m     \u001b[43m_optimize\u001b[49m\u001b[43m(\u001b[49m\n\u001b[1;32m    452\u001b[0m \u001b[43m        \u001b[49m\u001b[43mstudy\u001b[49m\u001b[38;5;241;43m=\u001b[39;49m\u001b[38;5;28;43mself\u001b[39;49m\u001b[43m,\u001b[49m\n\u001b[1;32m    453\u001b[0m \u001b[43m        \u001b[49m\u001b[43mfunc\u001b[49m\u001b[38;5;241;43m=\u001b[39;49m\u001b[43mfunc\u001b[49m\u001b[43m,\u001b[49m\n\u001b[1;32m    454\u001b[0m \u001b[43m        \u001b[49m\u001b[43mn_trials\u001b[49m\u001b[38;5;241;43m=\u001b[39;49m\u001b[43mn_trials\u001b[49m\u001b[43m,\u001b[49m\n\u001b[1;32m    455\u001b[0m \u001b[43m        \u001b[49m\u001b[43mtimeout\u001b[49m\u001b[38;5;241;43m=\u001b[39;49m\u001b[43mtimeout\u001b[49m\u001b[43m,\u001b[49m\n\u001b[1;32m    456\u001b[0m \u001b[43m        \u001b[49m\u001b[43mn_jobs\u001b[49m\u001b[38;5;241;43m=\u001b[39;49m\u001b[43mn_jobs\u001b[49m\u001b[43m,\u001b[49m\n\u001b[1;32m    457\u001b[0m \u001b[43m        \u001b[49m\u001b[43mcatch\u001b[49m\u001b[38;5;241;43m=\u001b[39;49m\u001b[38;5;28;43mtuple\u001b[39;49m\u001b[43m(\u001b[49m\u001b[43mcatch\u001b[49m\u001b[43m)\u001b[49m\u001b[43m \u001b[49m\u001b[38;5;28;43;01mif\u001b[39;49;00m\u001b[43m \u001b[49m\u001b[38;5;28;43misinstance\u001b[39;49m\u001b[43m(\u001b[49m\u001b[43mcatch\u001b[49m\u001b[43m,\u001b[49m\u001b[43m \u001b[49m\u001b[43mIterable\u001b[49m\u001b[43m)\u001b[49m\u001b[43m \u001b[49m\u001b[38;5;28;43;01melse\u001b[39;49;00m\u001b[43m \u001b[49m\u001b[43m(\u001b[49m\u001b[43mcatch\u001b[49m\u001b[43m,\u001b[49m\u001b[43m)\u001b[49m\u001b[43m,\u001b[49m\n\u001b[1;32m    458\u001b[0m \u001b[43m        \u001b[49m\u001b[43mcallbacks\u001b[49m\u001b[38;5;241;43m=\u001b[39;49m\u001b[43mcallbacks\u001b[49m\u001b[43m,\u001b[49m\n\u001b[1;32m    459\u001b[0m \u001b[43m        \u001b[49m\u001b[43mgc_after_trial\u001b[49m\u001b[38;5;241;43m=\u001b[39;49m\u001b[43mgc_after_trial\u001b[49m\u001b[43m,\u001b[49m\n\u001b[1;32m    460\u001b[0m \u001b[43m        \u001b[49m\u001b[43mshow_progress_bar\u001b[49m\u001b[38;5;241;43m=\u001b[39;49m\u001b[43mshow_progress_bar\u001b[49m\u001b[43m,\u001b[49m\n\u001b[1;32m    461\u001b[0m \u001b[43m    \u001b[49m\u001b[43m)\u001b[49m\n",
      "File \u001b[0;32m~/Library/Python/3.9/lib/python/site-packages/optuna/study/_optimize.py:62\u001b[0m, in \u001b[0;36m_optimize\u001b[0;34m(study, func, n_trials, timeout, n_jobs, catch, callbacks, gc_after_trial, show_progress_bar)\u001b[0m\n\u001b[1;32m     60\u001b[0m \u001b[38;5;28;01mtry\u001b[39;00m:\n\u001b[1;32m     61\u001b[0m     \u001b[38;5;28;01mif\u001b[39;00m n_jobs \u001b[38;5;241m==\u001b[39m \u001b[38;5;241m1\u001b[39m:\n\u001b[0;32m---> 62\u001b[0m         \u001b[43m_optimize_sequential\u001b[49m\u001b[43m(\u001b[49m\n\u001b[1;32m     63\u001b[0m \u001b[43m            \u001b[49m\u001b[43mstudy\u001b[49m\u001b[43m,\u001b[49m\n\u001b[1;32m     64\u001b[0m \u001b[43m            \u001b[49m\u001b[43mfunc\u001b[49m\u001b[43m,\u001b[49m\n\u001b[1;32m     65\u001b[0m \u001b[43m            \u001b[49m\u001b[43mn_trials\u001b[49m\u001b[43m,\u001b[49m\n\u001b[1;32m     66\u001b[0m \u001b[43m            \u001b[49m\u001b[43mtimeout\u001b[49m\u001b[43m,\u001b[49m\n\u001b[1;32m     67\u001b[0m \u001b[43m            \u001b[49m\u001b[43mcatch\u001b[49m\u001b[43m,\u001b[49m\n\u001b[1;32m     68\u001b[0m \u001b[43m            \u001b[49m\u001b[43mcallbacks\u001b[49m\u001b[43m,\u001b[49m\n\u001b[1;32m     69\u001b[0m \u001b[43m            \u001b[49m\u001b[43mgc_after_trial\u001b[49m\u001b[43m,\u001b[49m\n\u001b[1;32m     70\u001b[0m \u001b[43m            \u001b[49m\u001b[43mreseed_sampler_rng\u001b[49m\u001b[38;5;241;43m=\u001b[39;49m\u001b[38;5;28;43;01mFalse\u001b[39;49;00m\u001b[43m,\u001b[49m\n\u001b[1;32m     71\u001b[0m \u001b[43m            \u001b[49m\u001b[43mtime_start\u001b[49m\u001b[38;5;241;43m=\u001b[39;49m\u001b[38;5;28;43;01mNone\u001b[39;49;00m\u001b[43m,\u001b[49m\n\u001b[1;32m     72\u001b[0m \u001b[43m            \u001b[49m\u001b[43mprogress_bar\u001b[49m\u001b[38;5;241;43m=\u001b[39;49m\u001b[43mprogress_bar\u001b[49m\u001b[43m,\u001b[49m\n\u001b[1;32m     73\u001b[0m \u001b[43m        \u001b[49m\u001b[43m)\u001b[49m\n\u001b[1;32m     74\u001b[0m     \u001b[38;5;28;01melse\u001b[39;00m:\n\u001b[1;32m     75\u001b[0m         \u001b[38;5;28;01mif\u001b[39;00m n_jobs \u001b[38;5;241m==\u001b[39m \u001b[38;5;241m-\u001b[39m\u001b[38;5;241m1\u001b[39m:\n",
      "File \u001b[0;32m~/Library/Python/3.9/lib/python/site-packages/optuna/study/_optimize.py:170\u001b[0m, in \u001b[0;36m_optimize_sequential\u001b[0;34m(study, func, n_trials, timeout, catch, callbacks, gc_after_trial, reseed_sampler_rng, time_start, progress_bar)\u001b[0m\n\u001b[1;32m    168\u001b[0m \u001b[38;5;28;01mif\u001b[39;00m callbacks \u001b[38;5;129;01mis\u001b[39;00m \u001b[38;5;129;01mnot\u001b[39;00m \u001b[38;5;28;01mNone\u001b[39;00m:\n\u001b[1;32m    169\u001b[0m     \u001b[38;5;28;01mfor\u001b[39;00m callback \u001b[38;5;129;01min\u001b[39;00m callbacks:\n\u001b[0;32m--> 170\u001b[0m         \u001b[43mcallback\u001b[49m\u001b[43m(\u001b[49m\u001b[43mstudy\u001b[49m\u001b[43m,\u001b[49m\u001b[43m \u001b[49m\u001b[43mfrozen_trial\u001b[49m\u001b[43m)\u001b[49m\n\u001b[1;32m    172\u001b[0m \u001b[38;5;28;01mif\u001b[39;00m progress_bar \u001b[38;5;129;01mis\u001b[39;00m \u001b[38;5;129;01mnot\u001b[39;00m \u001b[38;5;28;01mNone\u001b[39;00m:\n\u001b[1;32m    173\u001b[0m     elapsed_seconds \u001b[38;5;241m=\u001b[39m (datetime\u001b[38;5;241m.\u001b[39mdatetime\u001b[38;5;241m.\u001b[39mnow() \u001b[38;5;241m-\u001b[39m time_start)\u001b[38;5;241m.\u001b[39mtotal_seconds()\n",
      "Cell \u001b[0;32mIn[28], line 90\u001b[0m, in \u001b[0;36mprint_callback\u001b[0;34m(study, trial)\u001b[0m\n\u001b[1;32m     88\u001b[0m \u001b[38;5;28;01mdef\u001b[39;00m \u001b[38;5;21mprint_callback\u001b[39m(study, trial):\n\u001b[1;32m     89\u001b[0m     elapsed_time \u001b[38;5;241m=\u001b[39m time\u001b[38;5;241m.\u001b[39mtime() \u001b[38;5;241m-\u001b[39m start_time\n\u001b[0;32m---> 90\u001b[0m     best_value \u001b[38;5;241m=\u001b[39m study\u001b[38;5;241m.\u001b[39mbest_value \u001b[38;5;28;01mif\u001b[39;00m \u001b[43mstudy\u001b[49m\u001b[38;5;241;43m.\u001b[39;49m\u001b[43mbest_trial\u001b[49m \u001b[38;5;28;01melse\u001b[39;00m \u001b[38;5;124m\"\u001b[39m\u001b[38;5;124mNo trials completed\u001b[39m\u001b[38;5;124m\"\u001b[39m\n\u001b[1;32m     91\u001b[0m     \u001b[38;5;28;01mif\u001b[39;00m trial\u001b[38;5;241m.\u001b[39mvalue \u001b[38;5;129;01mis\u001b[39;00m \u001b[38;5;28;01mNone\u001b[39;00m:\n\u001b[1;32m     92\u001b[0m         \u001b[38;5;28mprint\u001b[39m(\u001b[38;5;124mf\u001b[39m\u001b[38;5;124m\"\u001b[39m\u001b[38;5;124mTrial \u001b[39m\u001b[38;5;132;01m{\u001b[39;00mtrial\u001b[38;5;241m.\u001b[39mnumber\u001b[38;5;132;01m}\u001b[39;00m\u001b[38;5;124m: Not yet completed, \u001b[39m\u001b[38;5;124m\"\u001b[39m\n\u001b[1;32m     93\u001b[0m               \u001b[38;5;124mf\u001b[39m\u001b[38;5;124m\"\u001b[39m\u001b[38;5;124mBest value: \u001b[39m\u001b[38;5;132;01m{\u001b[39;00mbest_value\u001b[38;5;132;01m}\u001b[39;00m\u001b[38;5;124m, \u001b[39m\u001b[38;5;124m\"\u001b[39m\n\u001b[1;32m     94\u001b[0m               \u001b[38;5;124mf\u001b[39m\u001b[38;5;124m\"\u001b[39m\u001b[38;5;124mElapsed time: \u001b[39m\u001b[38;5;132;01m{\u001b[39;00melapsed_time\u001b[38;5;132;01m:\u001b[39;00m\u001b[38;5;124m.2f\u001b[39m\u001b[38;5;132;01m}\u001b[39;00m\u001b[38;5;124m seconds\u001b[39m\u001b[38;5;124m\"\u001b[39m)\n",
      "File \u001b[0;32m~/Library/Python/3.9/lib/python/site-packages/optuna/study/study.py:157\u001b[0m, in \u001b[0;36mStudy.best_trial\u001b[0;34m(self)\u001b[0m\n\u001b[1;32m    151\u001b[0m \u001b[38;5;28;01mif\u001b[39;00m \u001b[38;5;28mself\u001b[39m\u001b[38;5;241m.\u001b[39m_is_multi_objective():\n\u001b[1;32m    152\u001b[0m     \u001b[38;5;28;01mraise\u001b[39;00m \u001b[38;5;167;01mRuntimeError\u001b[39;00m(\n\u001b[1;32m    153\u001b[0m         \u001b[38;5;124m\"\u001b[39m\u001b[38;5;124mA single best trial cannot be retrieved from a multi-objective study. Consider \u001b[39m\u001b[38;5;124m\"\u001b[39m\n\u001b[1;32m    154\u001b[0m         \u001b[38;5;124m\"\u001b[39m\u001b[38;5;124musing Study.best_trials to retrieve a list containing the best trials.\u001b[39m\u001b[38;5;124m\"\u001b[39m\n\u001b[1;32m    155\u001b[0m     )\n\u001b[0;32m--> 157\u001b[0m \u001b[38;5;28;01mreturn\u001b[39;00m copy\u001b[38;5;241m.\u001b[39mdeepcopy(\u001b[38;5;28;43mself\u001b[39;49m\u001b[38;5;241;43m.\u001b[39;49m\u001b[43m_storage\u001b[49m\u001b[38;5;241;43m.\u001b[39;49m\u001b[43mget_best_trial\u001b[49m\u001b[43m(\u001b[49m\u001b[38;5;28;43mself\u001b[39;49m\u001b[38;5;241;43m.\u001b[39;49m\u001b[43m_study_id\u001b[49m\u001b[43m)\u001b[49m)\n",
      "File \u001b[0;32m~/Library/Python/3.9/lib/python/site-packages/optuna/storages/_in_memory.py:234\u001b[0m, in \u001b[0;36mInMemoryStorage.get_best_trial\u001b[0;34m(self, study_id)\u001b[0m\n\u001b[1;32m    231\u001b[0m best_trial_id \u001b[38;5;241m=\u001b[39m \u001b[38;5;28mself\u001b[39m\u001b[38;5;241m.\u001b[39m_studies[study_id]\u001b[38;5;241m.\u001b[39mbest_trial_id\n\u001b[1;32m    233\u001b[0m \u001b[38;5;28;01mif\u001b[39;00m best_trial_id \u001b[38;5;129;01mis\u001b[39;00m \u001b[38;5;28;01mNone\u001b[39;00m:\n\u001b[0;32m--> 234\u001b[0m     \u001b[38;5;28;01mraise\u001b[39;00m \u001b[38;5;167;01mValueError\u001b[39;00m(\u001b[38;5;124m\"\u001b[39m\u001b[38;5;124mNo trials are completed yet.\u001b[39m\u001b[38;5;124m\"\u001b[39m)\n\u001b[1;32m    235\u001b[0m \u001b[38;5;28;01melif\u001b[39;00m \u001b[38;5;28mlen\u001b[39m(\u001b[38;5;28mself\u001b[39m\u001b[38;5;241m.\u001b[39m_studies[study_id]\u001b[38;5;241m.\u001b[39mdirections) \u001b[38;5;241m>\u001b[39m \u001b[38;5;241m1\u001b[39m:\n\u001b[1;32m    236\u001b[0m     \u001b[38;5;28;01mraise\u001b[39;00m \u001b[38;5;167;01mRuntimeError\u001b[39;00m(\n\u001b[1;32m    237\u001b[0m         \u001b[38;5;124m\"\u001b[39m\u001b[38;5;124mBest trial can be obtained only for single-objective optimization.\u001b[39m\u001b[38;5;124m\"\u001b[39m\n\u001b[1;32m    238\u001b[0m     )\n",
      "\u001b[0;31mValueError\u001b[0m: No trials are completed yet."
     ]
    }
   ],
   "source": [
    "import time\n",
    "\n",
    "# Hyperparameter tuning using Optuna\n",
    "def objective(trial, model_class, X, y):\n",
    "    if model_class == RandomForestClassifier:\n",
    "        params = {\n",
    "            'n_estimators': trial.suggest_int('n_estimators', 100, 1000),\n",
    "            'max_depth': trial.suggest_int('max_depth', 3, 20),\n",
    "            'min_samples_split': trial.suggest_int('min_samples_split', 2, 20),\n",
    "            'min_samples_leaf': trial.suggest_int('min_samples_leaf', 1, 10),\n",
    "            'max_features': trial.suggest_float('max_features', 0.1, 1.0),\n",
    "        }\n",
    "    elif model_class == XGBClassifier:\n",
    "        params = {\n",
    "            'n_estimators': trial.suggest_int('n_estimators', 100, 1000),\n",
    "            'max_depth': trial.suggest_int('max_depth', 3, 20),\n",
    "            'learning_rate': trial.suggest_loguniform('learning_rate', 1e-3, 1.0),\n",
    "            'subsample': trial.suggest_uniform('subsample', 0.6, 1.0),\n",
    "            'colsample_bytree': trial.suggest_uniform('colsample_bytree', 0.6, 1.0),\n",
    "            'gamma': trial.suggest_loguniform('gamma', 1e-8, 1.0),\n",
    "            'min_child_weight': trial.suggest_int('min_child_weight', 1, 10),\n",
    "        }\n",
    "    elif model_class == CatBoostClassifier:\n",
    "        params = {\n",
    "            'iterations': trial.suggest_int('iterations', 100, 1000),\n",
    "            'depth': trial.suggest_int('depth', 3, 10),\n",
    "            'learning_rate': trial.suggest_loguniform('learning_rate', 1e-3, 1.0),\n",
    "            'l2_leaf_reg': trial.suggest_loguniform('l2_leaf_reg', 1e-8, 10.0),\n",
    "            'border_count': trial.suggest_int('border_count', 32, 255),\n",
    "            'subsample': trial.suggest_uniform('subsample', 0.6, 1.0),\n",
    "            'colsample_bylevel': trial.suggest_uniform('colsample_bylevel', 0.6, 1.0),\n",
    "            'min_data_in_leaf': trial.suggest_int('min_data_in_leaf', 1, 100),\n",
    "            'random_strength': trial.suggest_loguniform('random_strength', 1e-8, 10.0),\n",
    "        }\n",
    "    elif model_class == ExtraTreesClassifier:\n",
    "        params = {\n",
    "            'n_estimators': trial.suggest_int('n_estimators', 100, 1000),\n",
    "            'max_depth': trial.suggest_int('max_depth', 3, 20),\n",
    "            'min_samples_split': trial.suggest_int('min_samples_split', 2, 20),\n",
    "            'min_samples_leaf': trial.suggest_int('min_samples_leaf', 1, 10),\n",
    "            'max_features': trial.suggest_float('max_features', 0.1, 1.0),\n",
    "            'bootstrap': trial.suggest_categorical('bootstrap', [True, False]),\n",
    "        }\n",
    "    elif model_class == AdaBoostClassifier:\n",
    "        params = {\n",
    "            'n_estimators': trial.suggest_int('n_estimators', 50, 500),\n",
    "            'learning_rate': trial.suggest_loguniform('learning_rate', 1e-3, 1.0),\n",
    "            'algorithm': trial.suggest_categorical('algorithm', ['SAMME', 'SAMME.R']),\n",
    "        }\n",
    "    elif model_class == HistGradientBoostingClassifier:\n",
    "        params = {\n",
    "            'max_iter': trial.suggest_int('max_iter', 100, 1000),\n",
    "            'max_depth': trial.suggest_int('max_depth', 3, 20),\n",
    "            'learning_rate': trial.suggest_loguniform('learning_rate', 1e-3, 1.0),\n",
    "            'max_leaf_nodes': trial.suggest_int('max_leaf_nodes', 20, 100),\n",
    "            'min_samples_leaf': trial.suggest_int('min_samples_leaf', 1, 20),\n",
    "            'l2_regularization': trial.suggest_loguniform('l2_regularization', 1e-10, 1.0),\n",
    "            'max_bins': trial.suggest_int('max_bins', 32, 255),\n",
    "        }\n",
    "\n",
    "    model = model_class(**params)\n",
    "    pipeline = Pipeline([\n",
    "        ('preprocessor', preprocessor),\n",
    "        ('classifier', model)\n",
    "    ])\n",
    "    \n",
    "    scores = cross_val_score(pipeline, X, y, cv=StratifiedKFold(n_splits=5), scoring=custom_scorer_obj)\n",
    "    return scores.mean()\n",
    "\n",
    "results = {}\n",
    "\n",
    "for name, model in models.items():\n",
    "    print(f\"\\nOptimizing {name}...\")\n",
    "    study = optuna.create_study(direction='maximize')\n",
    "    start_time = time.time()\n",
    "    \n",
    "    def print_callback(study, trial):\n",
    "        elapsed_time = time.time() - start_time\n",
    "        if trial.value is None:\n",
    "            print(f\"Trial {trial.number}: Not yet completed, \"\n",
    "                  f\"Best value: {study.best_value:.4f}, \"\n",
    "                  f\"Elapsed time: {elapsed_time:.2f} seconds\")\n",
    "        else:\n",
    "            print(f\"Trial {trial.number}: Value: {trial.value:.4f}, \"\n",
    "                  f\"Best value: {study.best_value:.4f}, \"\n",
    "                  f\"Elapsed time: {elapsed_time:.2f} seconds\")\n",
    "            \n",
    "    def print_callback(study, trial):\n",
    "        elapsed_time = time.time() - start_time\n",
    "        best_value = study.best_value if study.best_trial else \"No trials completed\"\n",
    "        if trial.value is None:\n",
    "            print(f\"Trial {trial.number}: Not yet completed, \"\n",
    "                  f\"Best value: {best_value}, \"\n",
    "                  f\"Elapsed time: {elapsed_time:.2f} seconds\")\n",
    "        else:\n",
    "            print(f\"Trial {trial.number}: Value: {trial.value:.4f}, \"\n",
    "                  f\"Best value: {best_value}, \"\n",
    "                  f\"Elapsed time: {elapsed_time:.2f} seconds\")\n",
    "    \n",
    "    study.optimize(lambda trial: objective(trial, type(model), X_train_resampled, y_train_resampled), \n",
    "                   n_trials=50, callbacks=[print_callback])\n",
    "    \n",
    "    best_params = study.best_params\n",
    "    best_model = type(model)(**best_params)\n",
    "    \n",
    "    print(f\"\\nBest parameters for {name}:\")\n",
    "    for param, value in best_params.items():\n",
    "        print(f\"  {param}: {value}\")\n",
    "    \n",
    "    pipeline = Pipeline([\n",
    "        ('preprocessor', preprocessor),\n",
    "        ('feature_selection', SelectFromModel(XGBClassifier(random_state=42))),\n",
    "        ('classifier', best_model)\n",
    "    ])\n",
    "    \n",
    "    print(f\"\\nFitting {name} pipeline...\")\n",
    "    pipeline.fit(X_train_resampled, y_train_resampled)\n",
    "    \n",
    "    print(f\"Predicting with {name}...\")\n",
    "    y_pred = pipeline.predict(X_test)\n",
    "    y_pred_proba = pipeline.predict_proba(X_test)\n",
    "    \n",
    "    results[name] = {\n",
    "        'accuracy': pipeline.score(X_test, y_test),\n",
    "        'roc_auc': roc_auc_score(y_test, y_pred_proba[:, 1]),\n",
    "        'recall': recall_score(y_test, y_pred),\n",
    "        'confusion_matrix': confusion_matrix(y_test, y_pred),\n",
    "        'classification_report': classification_report(y_test, y_pred),\n",
    "        'best_params': best_params,\n",
    "        'pipeline': pipeline\n",
    "    }\n",
    "    \n",
    "    print(f\"\\nResults for {name}:\")\n",
    "    print(f\"  Accuracy: {results[name]['accuracy']:.4f}\")\n",
    "    print(f\"  ROC AUC: {results[name]['roc_auc']:.4f}\")\n",
    "    print(f\"  Recall: {results[name]['recall']:.4f}\")\n",
    "    print(\"\\nConfusion Matrix:\")\n",
    "    print(results[name]['confusion_matrix'])\n",
    "    print(\"\\nClassification Report:\")\n",
    "    print(results[name]['classification_report'])\n",
    "    \n",
    "    print(f\"\\nFinished optimizing and evaluating {name}\")\n",
    "    print(\"=\" * 50)\n",
    "\n",
    "print(\"\\nAll models have been optimized and evaluated.\")\n"
   ]
  },
  {
   "cell_type": "code",
   "execution_count": null,
   "id": "6012eb44",
   "metadata": {},
   "outputs": [],
   "source": [
    "# Print results and select the best model\n",
    "for name, result in results.items():\n",
    "    print(f\"\\n{name} Results:\")\n",
    "    print(f\"Accuracy: {result['accuracy']:.4f}\")\n",
    "    print(f\"ROC AUC: {result['roc_auc']:.4f}\")\n",
    "    print(f\"Recall: {result['recall']:.4f}\")\n",
    "    print(\"Confusion Matrix:\")\n",
    "    print(result['confusion_matrix'])\n",
    "    print(\"Classification Report:\")\n",
    "    print(result['classification_report'])\n",
    "    print(\"Best Parameters:\")\n",
    "    print(result['best_params'])\n",
    "\n",
    "best_model = max(results, key=lambda x: results[x]['recall'])\n",
    "final_model = results[best_model]['pipeline']\n",
    "final_predictions = final_model.predict(X_test)\n",
    "final_proba = final_model.predict_proba(X_test)[:, 1]\n",
    "\n",
    "print(\"\\nFinal Model Evaluation:\")\n",
    "print(f\"Model: {best_model}\")\n",
    "print(f\"Accuracy: {final_model.score(X_test, y_test):.4f}\")\n",
    "print(f\"ROC AUC: {roc_auc_score(y_test, final_proba):.4f}\")\n",
    "print(f\"Recall: {recall_score(y_test, final_predictions):.4f}\")\n",
    "print(\"Confusion Matrix:\")\n",
    "print(confusion_matrix(y_test, final_predictions))\n",
    "print(\"Classification Report:\")\n",
    "print(classification_report(y_test, final_predictions))"
   ]
  },
  {
   "cell_type": "code",
   "execution_count": null,
   "id": "00f385e2",
   "metadata": {},
   "outputs": [],
   "source": [
    "# Plot ROC curve\n",
    "from sklearn.metrics import roc_curve\n",
    "\n",
    "fpr, tpr, _ = roc_curve(y_test, final_proba)\n",
    "plt.figure(figsize=(8, 6))\n",
    "plt.plot(fpr, tpr, label=f'ROC Curve (AUC = {roc_auc_score(y_test, final_proba):.2f})')\n",
    "plt.plot([0, 1], [0, 1], linestyle='--', label='Random Classifier')\n",
    "plt.xlabel('False Positive Rate')\n",
    "plt.ylabel('True Positive Rate')\n",
    "plt.title('Receiver Operating Characteristic (ROC) Curve')\n",
    "plt.legend()\n",
    "plt.show()"
   ]
  },
  {
   "cell_type": "code",
   "execution_count": null,
   "id": "9133d7e7",
   "metadata": {},
   "outputs": [],
   "source": [
    "# Feature importance analysis using SHAP\n",
    "explainer = shap.TreeExplainer(final_model.named_steps['classifier'])\n",
    "shap_values = explainer.shap_values(final_model.named_steps['preprocessor'].transform(X_test))\n",
    "\n",
    "plt.figure(figsize=(10, 8))\n",
    "shap.summary_plot(shap_values, X_test, plot_type=\"bar\")\n",
    "plt.title(\"Feature Importance (SHAP Values)\")\n",
    "plt.show()"
   ]
  },
  {
   "cell_type": "code",
   "execution_count": null,
   "id": "6f612b7e",
   "metadata": {},
   "outputs": [],
   "source": [
    "# Learning curve analysis\n",
    "from sklearn.model_selection import learning_curve\n",
    "\n",
    "train_sizes, train_scores, test_scores = learning_curve(\n",
    "    final_model, X, y, cv=5, n_jobs=-1, \n",
    "    train_sizes=np.linspace(0.1, 1.0, 10),\n",
    "    scoring=make_scorer(custom_scorer)\n",
    ")\n",
    "\n",
    "plt.figure(figsize=(10, 6))\n",
    "plt.plot(train_sizes, np.mean(train_scores, axis=1), label='Training score')\n",
    "plt.plot(train_sizes, np.mean(test_scores, axis=1), label='Cross-validation score')\n",
    "plt.xlabel('Training Set Size')\n",
    "plt.ylabel('Custom Score')\n",
    "plt.title('Learning Curve')\n",
    "plt.legend()\n",
    "plt.show()\n"
   ]
  },
  {
   "cell_type": "markdown",
   "id": "14497fd0",
   "metadata": {
    "papermill": {
     "duration": 0.013956,
     "end_time": "2024-07-10T06:02:20.605551",
     "exception": false,
     "start_time": "2024-07-10T06:02:20.591595",
     "status": "completed"
    },
    "tags": []
   },
   "source": [
    "## 1. Data Loading and Initial Exploration"
   ]
  },
  {
   "cell_type": "code",
   "execution_count": null,
   "id": "7d76c5ec",
   "metadata": {
    "execution": {
     "iopub.execute_input": "2024-07-10T06:02:20.635974Z",
     "iopub.status.busy": "2024-07-10T06:02:20.635325Z",
     "iopub.status.idle": "2024-07-10T06:02:20.683398Z",
     "shell.execute_reply": "2024-07-10T06:02:20.682427Z"
    },
    "papermill": {
     "duration": 0.066504,
     "end_time": "2024-07-10T06:02:20.686266",
     "exception": false,
     "start_time": "2024-07-10T06:02:20.619762",
     "status": "completed"
    },
    "tags": []
   },
   "outputs": [],
   "source": [
    "df = pd.read_csv('/kaggle/input/stroke-prediction-dataset/healthcare-dataset-stroke-data.csv')"
   ]
  },
  {
   "cell_type": "code",
   "execution_count": null,
   "id": "92eab61d",
   "metadata": {
    "execution": {
     "iopub.execute_input": "2024-07-10T06:02:20.717540Z",
     "iopub.status.busy": "2024-07-10T06:02:20.716493Z",
     "iopub.status.idle": "2024-07-10T06:02:20.746274Z",
     "shell.execute_reply": "2024-07-10T06:02:20.745080Z"
    },
    "papermill": {
     "duration": 0.048327,
     "end_time": "2024-07-10T06:02:20.749127",
     "exception": false,
     "start_time": "2024-07-10T06:02:20.700800",
     "status": "completed"
    },
    "tags": []
   },
   "outputs": [],
   "source": [
    "df.head()"
   ]
  },
  {
   "cell_type": "code",
   "execution_count": null,
   "id": "c7fee096",
   "metadata": {
    "execution": {
     "iopub.execute_input": "2024-07-10T06:02:20.780995Z",
     "iopub.status.busy": "2024-07-10T06:02:20.780031Z",
     "iopub.status.idle": "2024-07-10T06:02:20.807835Z",
     "shell.execute_reply": "2024-07-10T06:02:20.806581Z"
    },
    "papermill": {
     "duration": 0.046409,
     "end_time": "2024-07-10T06:02:20.810531",
     "exception": false,
     "start_time": "2024-07-10T06:02:20.764122",
     "status": "completed"
    },
    "tags": []
   },
   "outputs": [],
   "source": [
    "df.info()"
   ]
  },
  {
   "cell_type": "markdown",
   "id": "bf5bd32b",
   "metadata": {
    "papermill": {
     "duration": 0.0146,
     "end_time": "2024-07-10T06:02:20.839938",
     "exception": false,
     "start_time": "2024-07-10T06:02:20.825338",
     "status": "completed"
    },
    "tags": []
   },
   "source": [
    "Body"
   ]
  },
  {
   "cell_type": "markdown",
   "id": "5db1bb71",
   "metadata": {
    "papermill": {
     "duration": 0.014593,
     "end_time": "2024-07-10T06:02:20.869582",
     "exception": false,
     "start_time": "2024-07-10T06:02:20.854989",
     "status": "completed"
    },
    "tags": []
   },
   "source": []
  },
  {
   "cell_type": "code",
   "execution_count": null,
   "id": "2dae01d5",
   "metadata": {
    "execution": {
     "iopub.execute_input": "2024-07-10T06:02:20.902988Z",
     "iopub.status.busy": "2024-07-10T06:02:20.902583Z",
     "iopub.status.idle": "2024-07-10T06:02:20.941825Z",
     "shell.execute_reply": "2024-07-10T06:02:20.940471Z"
    },
    "papermill": {
     "duration": 0.059217,
     "end_time": "2024-07-10T06:02:20.945002",
     "exception": false,
     "start_time": "2024-07-10T06:02:20.885785",
     "status": "completed"
    },
    "tags": []
   },
   "outputs": [],
   "source": [
    "df.describe().T"
   ]
  },
  {
   "cell_type": "markdown",
   "id": "6c7d5a1d",
   "metadata": {
    "papermill": {
     "duration": 0.014954,
     "end_time": "2024-07-10T06:02:20.975096",
     "exception": false,
     "start_time": "2024-07-10T06:02:20.960142",
     "status": "completed"
    },
    "tags": []
   },
   "source": [
    "## 2. Data Visualization"
   ]
  },
  {
   "cell_type": "code",
   "execution_count": null,
   "id": "ea606297",
   "metadata": {
    "execution": {
     "iopub.execute_input": "2024-07-10T06:02:21.007042Z",
     "iopub.status.busy": "2024-07-10T06:02:21.006661Z",
     "iopub.status.idle": "2024-07-10T06:02:21.013856Z",
     "shell.execute_reply": "2024-07-10T06:02:21.012831Z"
    },
    "papermill": {
     "duration": 0.026829,
     "end_time": "2024-07-10T06:02:21.016936",
     "exception": false,
     "start_time": "2024-07-10T06:02:20.990107",
     "status": "completed"
    },
    "tags": []
   },
   "outputs": [],
   "source": [
    "numeric_columns = df.select_dtypes(include=[np.number]).columns\n",
    "print(\"Numeric columns:\", numeric_columns)"
   ]
  },
  {
   "cell_type": "code",
   "execution_count": null,
   "id": "81ce58f8",
   "metadata": {
    "execution": {
     "iopub.execute_input": "2024-07-10T06:02:21.049307Z",
     "iopub.status.busy": "2024-07-10T06:02:21.048906Z",
     "iopub.status.idle": "2024-07-10T06:02:21.604493Z",
     "shell.execute_reply": "2024-07-10T06:02:21.602965Z"
    },
    "papermill": {
     "duration": 0.574621,
     "end_time": "2024-07-10T06:02:21.607167",
     "exception": false,
     "start_time": "2024-07-10T06:02:21.032546",
     "status": "completed"
    },
    "tags": []
   },
   "outputs": [],
   "source": [
    "plt.figure(figsize=(12, 8))\n",
    "sns.heatmap(df[numeric_columns].corr(), annot=True, cmap='coolwarm')\n",
    "plt.title('Correlation Heatmap (Numeric Features)')\n",
    "plt.show()"
   ]
  },
  {
   "cell_type": "code",
   "execution_count": null,
   "id": "46f0e22b",
   "metadata": {
    "execution": {
     "iopub.execute_input": "2024-07-10T06:02:21.642313Z",
     "iopub.status.busy": "2024-07-10T06:02:21.641487Z",
     "iopub.status.idle": "2024-07-10T06:02:21.899661Z",
     "shell.execute_reply": "2024-07-10T06:02:21.898345Z"
    },
    "papermill": {
     "duration": 0.278842,
     "end_time": "2024-07-10T06:02:21.902383",
     "exception": false,
     "start_time": "2024-07-10T06:02:21.623541",
     "status": "completed"
    },
    "tags": []
   },
   "outputs": [],
   "source": [
    "plt.figure(figsize=(10, 6))\n",
    "sns.countplot(x='gender', hue='stroke', data=df)\n",
    "plt.title('Stroke Occurrence by Gender')\n",
    "plt.show()"
   ]
  },
  {
   "cell_type": "code",
   "execution_count": null,
   "id": "538961c1",
   "metadata": {
    "execution": {
     "iopub.execute_input": "2024-07-10T06:02:21.938740Z",
     "iopub.status.busy": "2024-07-10T06:02:21.938276Z",
     "iopub.status.idle": "2024-07-10T06:02:23.861741Z",
     "shell.execute_reply": "2024-07-10T06:02:23.860479Z"
    },
    "papermill": {
     "duration": 1.949353,
     "end_time": "2024-07-10T06:02:23.869173",
     "exception": false,
     "start_time": "2024-07-10T06:02:21.919820",
     "status": "completed"
    },
    "tags": []
   },
   "outputs": [],
   "source": [
    "# Encode categorical variables\n",
    "df_encoded = pd.get_dummies(df, columns=['gender', 'ever_married', 'work_type', 'Residence_type', 'smoking_status'])\n",
    "\n",
    "# Create correlation heatmap with encoded features\n",
    "plt.figure(figsize=(20, 16))\n",
    "sns.heatmap(df_encoded.corr(), annot=True, cmap='coolwarm', fmt='.2f')\n",
    "plt.title('Correlation Heatmap (All Features Encoded)')\n",
    "plt.show()"
   ]
  },
  {
   "cell_type": "code",
   "execution_count": null,
   "id": "95ef967d",
   "metadata": {
    "execution": {
     "iopub.execute_input": "2024-07-10T06:02:23.918200Z",
     "iopub.status.busy": "2024-07-10T06:02:23.917769Z",
     "iopub.status.idle": "2024-07-10T06:02:23.929493Z",
     "shell.execute_reply": "2024-07-10T06:02:23.928132Z"
    },
    "papermill": {
     "duration": 0.038998,
     "end_time": "2024-07-10T06:02:23.931988",
     "exception": false,
     "start_time": "2024-07-10T06:02:23.892990",
     "status": "completed"
    },
    "tags": []
   },
   "outputs": [],
   "source": [
    "# Check for missing values\n",
    "print(df.isnull().sum())"
   ]
  },
  {
   "cell_type": "markdown",
   "id": "e47e0d4f",
   "metadata": {
    "papermill": {
     "duration": 0.022696,
     "end_time": "2024-07-10T06:02:23.977613",
     "exception": false,
     "start_time": "2024-07-10T06:02:23.954917",
     "status": "completed"
    },
    "tags": []
   },
   "source": [
    "## Handling with missing values"
   ]
  },
  {
   "cell_type": "markdown",
   "id": "7516b814",
   "metadata": {
    "papermill": {
     "duration": 0.022772,
     "end_time": "2024-07-10T06:02:24.023331",
     "exception": false,
     "start_time": "2024-07-10T06:02:24.000559",
     "status": "completed"
    },
    "tags": []
   },
   "source": [
    "We are going to use rest of data to make a linear regression model to predict missing values of bmi"
   ]
  },
  {
   "cell_type": "markdown",
   "id": "af0df2b6",
   "metadata": {
    "papermill": {
     "duration": 0.022657,
     "end_time": "2024-07-10T06:02:24.068936",
     "exception": false,
     "start_time": "2024-07-10T06:02:24.046279",
     "status": "completed"
    },
    "tags": []
   },
   "source": [
    "Let´s work in a copy of original database"
   ]
  },
  {
   "cell_type": "code",
   "execution_count": null,
   "id": "8a590093",
   "metadata": {
    "execution": {
     "iopub.execute_input": "2024-07-10T06:02:24.116957Z",
     "iopub.status.busy": "2024-07-10T06:02:24.116207Z",
     "iopub.status.idle": "2024-07-10T06:02:24.123496Z",
     "shell.execute_reply": "2024-07-10T06:02:24.122273Z"
    },
    "papermill": {
     "duration": 0.034011,
     "end_time": "2024-07-10T06:02:24.125895",
     "exception": false,
     "start_time": "2024-07-10T06:02:24.091884",
     "status": "completed"
    },
    "tags": []
   },
   "outputs": [],
   "source": [
    "from sklearn.impute import SimpleImputer\n",
    "from sklearn.linear_model import LinearRegression\n",
    "from sklearn.model_selection import train_test_split\n",
    "\n",
    "# Assuming your DataFrame is named 'df'\n",
    "# Let's create a copy to work with\n",
    "df_imputed = df_encoded.copy()"
   ]
  },
  {
   "cell_type": "markdown",
   "id": "97e1cf46",
   "metadata": {
    "papermill": {
     "duration": 0.023012,
     "end_time": "2024-07-10T06:02:24.172862",
     "exception": false,
     "start_time": "2024-07-10T06:02:24.149850",
     "status": "completed"
    },
    "tags": []
   },
   "source": [
    "Let´s identify the features to use for prediction and prepare the data:"
   ]
  },
  {
   "cell_type": "code",
   "execution_count": null,
   "id": "cdb232c4",
   "metadata": {
    "execution": {
     "iopub.execute_input": "2024-07-10T06:02:24.284271Z",
     "iopub.status.busy": "2024-07-10T06:02:24.283895Z",
     "iopub.status.idle": "2024-07-10T06:02:24.298483Z",
     "shell.execute_reply": "2024-07-10T06:02:24.297443Z"
    },
    "papermill": {
     "duration": 0.041527,
     "end_time": "2024-07-10T06:02:24.301000",
     "exception": false,
     "start_time": "2024-07-10T06:02:24.259473",
     "status": "completed"
    },
    "tags": []
   },
   "outputs": [],
   "source": [
    "# Identify numeric and categorical columns\n",
    "numeric_columns = df_imputed.select_dtypes(include=[np.number]).columns.tolist()\n",
    "categorical_columns = df_imputed.select_dtypes(include=['object']).columns.tolist()\n",
    "\n",
    "# Remove 'bmi' from numeric columns if it's there\n",
    "if 'bmi' in numeric_columns:\n",
    "    numeric_columns.remove('bmi')\n",
    "\n",
    "# One-hot encode categorical variables\n",
    "df_encoded = pd.get_dummies(df_imputed, columns=categorical_columns)\n",
    "\n",
    "# Prepare features (X) and target (y)\n",
    "X = df_encoded.drop('bmi', axis=1)\n",
    "y = df_encoded['bmi']\n",
    "\n",
    "# Split data into rows with BMI and without BMI\n",
    "X_with_bmi = X[y.notnull()]\n",
    "y_with_bmi = y[y.notnull()]\n",
    "X_without_bmi = X[y.isnull()]"
   ]
  },
  {
   "cell_type": "markdown",
   "id": "4d51bc16",
   "metadata": {
    "papermill": {
     "duration": 0.022726,
     "end_time": "2024-07-10T06:02:24.346944",
     "exception": false,
     "start_time": "2024-07-10T06:02:24.324218",
     "status": "completed"
    },
    "tags": []
   },
   "source": [
    "Let´s train the linear regression model"
   ]
  },
  {
   "cell_type": "code",
   "execution_count": null,
   "id": "9f08d10f",
   "metadata": {
    "execution": {
     "iopub.execute_input": "2024-07-10T06:02:24.395986Z",
     "iopub.status.busy": "2024-07-10T06:02:24.395580Z",
     "iopub.status.idle": "2024-07-10T06:02:24.449775Z",
     "shell.execute_reply": "2024-07-10T06:02:24.448413Z"
    },
    "papermill": {
     "duration": 0.083803,
     "end_time": "2024-07-10T06:02:24.454025",
     "exception": false,
     "start_time": "2024-07-10T06:02:24.370222",
     "status": "completed"
    },
    "tags": []
   },
   "outputs": [],
   "source": [
    "# Split the data with BMI into training and testing sets\n",
    "X_train, X_test, y_train, y_test = train_test_split(X_with_bmi, y_with_bmi, test_size=0.2, random_state=42)\n",
    "\n",
    "# Initialize and train the model\n",
    "model = LinearRegression()\n",
    "model.fit(X_train, y_train)\n",
    "\n",
    "# Evaluate the model\n",
    "score = model.score(X_test, y_test)\n",
    "print(f\"R-squared score: {score:.4f}\")"
   ]
  },
  {
   "cell_type": "markdown",
   "id": "378c5f49",
   "metadata": {
    "papermill": {
     "duration": 0.03011,
     "end_time": "2024-07-10T06:02:24.576648",
     "exception": false,
     "start_time": "2024-07-10T06:02:24.546538",
     "status": "completed"
    },
    "tags": []
   },
   "source": [
    "Let´s use the model to predict missing BMI values:"
   ]
  },
  {
   "cell_type": "code",
   "execution_count": null,
   "id": "cd2d66e1",
   "metadata": {
    "execution": {
     "iopub.execute_input": "2024-07-10T06:02:24.625839Z",
     "iopub.status.busy": "2024-07-10T06:02:24.625424Z",
     "iopub.status.idle": "2024-07-10T06:02:24.635912Z",
     "shell.execute_reply": "2024-07-10T06:02:24.634748Z"
    },
    "papermill": {
     "duration": 0.038061,
     "end_time": "2024-07-10T06:02:24.638467",
     "exception": false,
     "start_time": "2024-07-10T06:02:24.600406",
     "status": "completed"
    },
    "tags": []
   },
   "outputs": [],
   "source": [
    "# Predict BMI for rows with missing values\n",
    "bmi_predicted = model.predict(X_without_bmi)\n",
    "\n",
    "# Fill in the predicted values\n",
    "df_imputed.loc[y.isnull(), 'bmi'] = bmi_predicted\n",
    "\n",
    "# Verify that there are no more missing values in the 'bmi' column\n",
    "print(df_imputed['bmi'].isnull().sum())"
   ]
  },
  {
   "cell_type": "markdown",
   "id": "96ab0bef",
   "metadata": {
    "papermill": {
     "duration": 0.023095,
     "end_time": "2024-07-10T06:02:24.685033",
     "exception": false,
     "start_time": "2024-07-10T06:02:24.661938",
     "status": "completed"
    },
    "tags": []
   },
   "source": [
    "Let´s plot the distribution of original vs imputed BMI values, to check if the imputation looks reasonable:"
   ]
  },
  {
   "cell_type": "code",
   "execution_count": null,
   "id": "b503b017",
   "metadata": {
    "execution": {
     "iopub.execute_input": "2024-07-10T06:02:24.733846Z",
     "iopub.status.busy": "2024-07-10T06:02:24.733421Z",
     "iopub.status.idle": "2024-07-10T06:02:25.830983Z",
     "shell.execute_reply": "2024-07-10T06:02:25.829923Z"
    },
    "papermill": {
     "duration": 1.126195,
     "end_time": "2024-07-10T06:02:25.834565",
     "exception": false,
     "start_time": "2024-07-10T06:02:24.708370",
     "status": "completed"
    },
    "tags": []
   },
   "outputs": [],
   "source": [
    "import matplotlib.pyplot as plt\n",
    "import seaborn as sns\n",
    "\n",
    "plt.figure(figsize=(12, 6))\n",
    "sns.histplot(df['bmi'].dropna(), kde=True, label='Original BMI')\n",
    "sns.histplot(df_imputed['bmi'], kde=True, label='Imputed BMI')\n",
    "plt.legend()\n",
    "plt.title('Distribution of Original vs Imputed BMI')\n",
    "plt.show()\n"
   ]
  },
  {
   "cell_type": "markdown",
   "id": "358b5d68",
   "metadata": {
    "papermill": {
     "duration": 0.026012,
     "end_time": "2024-07-10T06:02:25.885739",
     "exception": false,
     "start_time": "2024-07-10T06:02:25.859727",
     "status": "completed"
    },
    "tags": []
   },
   "source": [
    "Our missing values filling method works perfectly.\n",
    "\n",
    "Let´s continue with Stroke Prediction:"
   ]
  },
  {
   "cell_type": "code",
   "execution_count": null,
   "id": "45caad0f",
   "metadata": {
    "execution": {
     "iopub.execute_input": "2024-07-10T06:02:25.938009Z",
     "iopub.status.busy": "2024-07-10T06:02:25.937572Z",
     "iopub.status.idle": "2024-07-10T06:02:27.895268Z",
     "shell.execute_reply": "2024-07-10T06:02:27.893884Z"
    },
    "papermill": {
     "duration": 1.990746,
     "end_time": "2024-07-10T06:02:27.902346",
     "exception": false,
     "start_time": "2024-07-10T06:02:25.911600",
     "status": "completed"
    },
    "tags": []
   },
   "outputs": [],
   "source": [
    "# Updated correlation heatmap with encoded features\n",
    "plt.figure(figsize=(20, 16))\n",
    "sns.heatmap(df_encoded.corr(), annot=True, cmap='coolwarm', fmt='.2f')\n",
    "plt.title('Correlation Heatmap (All Features Encoded)')\n",
    "plt.show()"
   ]
  },
  {
   "cell_type": "code",
   "execution_count": null,
   "id": "40a97752",
   "metadata": {
    "execution": {
     "iopub.execute_input": "2024-07-10T06:02:27.968437Z",
     "iopub.status.busy": "2024-07-10T06:02:27.967975Z",
     "iopub.status.idle": "2024-07-10T06:02:27.973652Z",
     "shell.execute_reply": "2024-07-10T06:02:27.972326Z"
    },
    "papermill": {
     "duration": 0.041035,
     "end_time": "2024-07-10T06:02:27.976121",
     "exception": false,
     "start_time": "2024-07-10T06:02:27.935086",
     "status": "completed"
    },
    "tags": []
   },
   "outputs": [],
   "source": [
    "df = df_imputed"
   ]
  },
  {
   "cell_type": "code",
   "execution_count": null,
   "id": "b7067054",
   "metadata": {
    "execution": {
     "iopub.execute_input": "2024-07-10T06:02:28.041840Z",
     "iopub.status.busy": "2024-07-10T06:02:28.041417Z",
     "iopub.status.idle": "2024-07-10T06:02:28.049133Z",
     "shell.execute_reply": "2024-07-10T06:02:28.047893Z"
    },
    "papermill": {
     "duration": 0.043849,
     "end_time": "2024-07-10T06:02:28.051821",
     "exception": false,
     "start_time": "2024-07-10T06:02:28.007972",
     "status": "completed"
    },
    "tags": []
   },
   "outputs": [],
   "source": [
    "# Split features and target\n",
    "X = df.drop(['id', 'stroke'], axis=1)\n",
    "y = df['stroke']\n"
   ]
  },
  {
   "cell_type": "code",
   "execution_count": null,
   "id": "0ca73d1b",
   "metadata": {
    "execution": {
     "iopub.execute_input": "2024-07-10T06:02:28.116307Z",
     "iopub.status.busy": "2024-07-10T06:02:28.115923Z",
     "iopub.status.idle": "2024-07-10T06:02:28.143534Z",
     "shell.execute_reply": "2024-07-10T06:02:28.142282Z"
    },
    "papermill": {
     "duration": 0.062629,
     "end_time": "2024-07-10T06:02:28.145945",
     "exception": false,
     "start_time": "2024-07-10T06:02:28.083316",
     "status": "completed"
    },
    "tags": []
   },
   "outputs": [],
   "source": [
    "X.head()"
   ]
  },
  {
   "cell_type": "code",
   "execution_count": null,
   "id": "896a1219",
   "metadata": {
    "execution": {
     "iopub.execute_input": "2024-07-10T06:02:28.213102Z",
     "iopub.status.busy": "2024-07-10T06:02:28.212683Z",
     "iopub.status.idle": "2024-07-10T06:02:28.222558Z",
     "shell.execute_reply": "2024-07-10T06:02:28.221427Z"
    },
    "papermill": {
     "duration": 0.047092,
     "end_time": "2024-07-10T06:02:28.225307",
     "exception": false,
     "start_time": "2024-07-10T06:02:28.178215",
     "status": "completed"
    },
    "tags": []
   },
   "outputs": [],
   "source": [
    "# Split data into train and test sets\n",
    "X_train, X_test, y_train, y_test = train_test_split(X, y, test_size=0.2, random_state=42)"
   ]
  },
  {
   "cell_type": "markdown",
   "id": "7cd666c5",
   "metadata": {
    "papermill": {
     "duration": 0.032191,
     "end_time": "2024-07-10T06:02:28.291710",
     "exception": false,
     "start_time": "2024-07-10T06:02:28.259519",
     "status": "completed"
    },
    "tags": []
   },
   "source": [
    "## 4. Handling Class Imbalance"
   ]
  },
  {
   "cell_type": "markdown",
   "id": "cc20aa75",
   "metadata": {
    "papermill": {
     "duration": 0.03215,
     "end_time": "2024-07-10T06:02:28.356099",
     "exception": false,
     "start_time": "2024-07-10T06:02:28.323949",
     "status": "completed"
    },
    "tags": []
   },
   "source": [
    "SMOTE (Synthetic Minority Over-sampling Technique) Implementation"
   ]
  },
  {
   "cell_type": "code",
   "execution_count": null,
   "id": "051ea624",
   "metadata": {
    "execution": {
     "iopub.execute_input": "2024-07-10T06:02:28.422611Z",
     "iopub.status.busy": "2024-07-10T06:02:28.422157Z",
     "iopub.status.idle": "2024-07-10T06:02:28.517974Z",
     "shell.execute_reply": "2024-07-10T06:02:28.516904Z"
    },
    "papermill": {
     "duration": 0.132491,
     "end_time": "2024-07-10T06:02:28.520791",
     "exception": false,
     "start_time": "2024-07-10T06:02:28.388300",
     "status": "completed"
    },
    "tags": []
   },
   "outputs": [],
   "source": [
    "smote = SMOTE(random_state=42)\n",
    "X_train_resampled, y_train_resampled = smote.fit_resample(X_train, y_train)"
   ]
  },
  {
   "cell_type": "markdown",
   "id": "10c95bd8",
   "metadata": {
    "papermill": {
     "duration": 0.031787,
     "end_time": "2024-07-10T06:02:28.584837",
     "exception": false,
     "start_time": "2024-07-10T06:02:28.553050",
     "status": "completed"
    },
    "tags": []
   },
   "source": [
    "## 5. Feature Scaling and Preprocessing Pipeline"
   ]
  },
  {
   "cell_type": "code",
   "execution_count": null,
   "id": "4c7e00c9",
   "metadata": {
    "execution": {
     "iopub.execute_input": "2024-07-10T06:02:28.651152Z",
     "iopub.status.busy": "2024-07-10T06:02:28.650735Z",
     "iopub.status.idle": "2024-07-10T06:02:28.657468Z",
     "shell.execute_reply": "2024-07-10T06:02:28.656304Z"
    },
    "papermill": {
     "duration": 0.043317,
     "end_time": "2024-07-10T06:02:28.660158",
     "exception": false,
     "start_time": "2024-07-10T06:02:28.616841",
     "status": "completed"
    },
    "tags": []
   },
   "outputs": [],
   "source": [
    "numeric_features = ['age', 'avg_glucose_level', 'bmi']\n",
    "numeric_transformer = Pipeline(steps=[\n",
    "    ('imputer', SimpleImputer(strategy='median')),\n",
    "    ('scaler', StandardScaler())\n",
    "])\n",
    "\n",
    "preprocessor = ColumnTransformer(\n",
    "    transformers=[\n",
    "        ('num', numeric_transformer, numeric_features)\n",
    "    ])"
   ]
  },
  {
   "cell_type": "markdown",
   "id": "2e5ad15e",
   "metadata": {
    "papermill": {
     "duration": 0.032634,
     "end_time": "2024-07-10T06:02:28.725930",
     "exception": false,
     "start_time": "2024-07-10T06:02:28.693296",
     "status": "completed"
    },
    "tags": []
   },
   "source": [
    "## 6. Model Selection and Training"
   ]
  },
  {
   "cell_type": "code",
   "execution_count": null,
   "id": "ae5ca8e7",
   "metadata": {
    "execution": {
     "iopub.execute_input": "2024-07-10T06:02:28.792711Z",
     "iopub.status.busy": "2024-07-10T06:02:28.792263Z",
     "iopub.status.idle": "2024-07-10T06:02:28.798247Z",
     "shell.execute_reply": "2024-07-10T06:02:28.796904Z"
    },
    "papermill": {
     "duration": 0.042291,
     "end_time": "2024-07-10T06:02:28.800803",
     "exception": false,
     "start_time": "2024-07-10T06:02:28.758512",
     "status": "completed"
    },
    "tags": []
   },
   "outputs": [],
   "source": [
    "models = {\n",
    "    'Random Forest': RandomForestClassifier(random_state=42),\n",
    "    'XGBoost': XGBClassifier(random_state=42),\n",
    "    'LightGBM': LGBMClassifier(random_state=42)\n",
    "}"
   ]
  },
  {
   "cell_type": "code",
   "execution_count": null,
   "id": "8c60f3c9",
   "metadata": {
    "execution": {
     "iopub.execute_input": "2024-07-10T06:02:28.867559Z",
     "iopub.status.busy": "2024-07-10T06:02:28.867079Z",
     "iopub.status.idle": "2024-07-10T06:02:30.602133Z",
     "shell.execute_reply": "2024-07-10T06:02:30.600844Z"
    },
    "papermill": {
     "duration": 1.772052,
     "end_time": "2024-07-10T06:02:30.604931",
     "exception": false,
     "start_time": "2024-07-10T06:02:28.832879",
     "status": "completed"
    },
    "tags": []
   },
   "outputs": [],
   "source": [
    "results = {}\n",
    "\n",
    "for name, model in models.items():\n",
    "    pipeline = Pipeline([\n",
    "        ('preprocessor', preprocessor),\n",
    "        ('classifier', model)\n",
    "    ])\n",
    "    \n",
    "    pipeline.fit(X_train_resampled, y_train_resampled)\n",
    "    y_pred = pipeline.predict(X_test)\n",
    "    \n",
    "    results[name] = {\n",
    "        'accuracy': pipeline.score(X_test, y_test),\n",
    "        'roc_auc': roc_auc_score(y_test, pipeline.predict_proba(X_test)[:, 1]),\n",
    "        'confusion_matrix': confusion_matrix(y_test, y_pred),\n",
    "        'classification_report': classification_report(y_test, y_pred)\n",
    "    }"
   ]
  },
  {
   "cell_type": "code",
   "execution_count": null,
   "id": "45e2105b",
   "metadata": {
    "execution": {
     "iopub.execute_input": "2024-07-10T06:02:30.672197Z",
     "iopub.status.busy": "2024-07-10T06:02:30.671793Z",
     "iopub.status.idle": "2024-07-10T06:02:30.679956Z",
     "shell.execute_reply": "2024-07-10T06:02:30.678629Z"
    },
    "papermill": {
     "duration": 0.045535,
     "end_time": "2024-07-10T06:02:30.683257",
     "exception": false,
     "start_time": "2024-07-10T06:02:30.637722",
     "status": "completed"
    },
    "tags": []
   },
   "outputs": [],
   "source": [
    "for name, result in results.items():\n",
    "    print(f\"\\n{name} Results:\")\n",
    "    print(f\"Accuracy: {result['accuracy']:.4f}\")\n",
    "    print(f\"ROC AUC: {result['roc_auc']:.4f}\")\n",
    "    print(\"Confusion Matrix:\")\n",
    "    print(result['confusion_matrix'])\n",
    "    print(\"Classification Report:\")\n",
    "    print(result['classification_report'])"
   ]
  },
  {
   "cell_type": "markdown",
   "id": "6f06441d",
   "metadata": {
    "papermill": {
     "duration": 0.033392,
     "end_time": "2024-07-10T06:02:30.749432",
     "exception": false,
     "start_time": "2024-07-10T06:02:30.716040",
     "status": "completed"
    },
    "tags": []
   },
   "source": [
    "### 8. Feature Importance Analysis"
   ]
  },
  {
   "cell_type": "code",
   "execution_count": null,
   "id": "017dd9bd",
   "metadata": {
    "execution": {
     "iopub.execute_input": "2024-07-10T06:02:30.818030Z",
     "iopub.status.busy": "2024-07-10T06:02:30.817605Z",
     "iopub.status.idle": "2024-07-10T06:02:32.059932Z",
     "shell.execute_reply": "2024-07-10T06:02:32.058812Z"
    },
    "papermill": {
     "duration": 1.279702,
     "end_time": "2024-07-10T06:02:32.062489",
     "exception": false,
     "start_time": "2024-07-10T06:02:30.782787",
     "status": "completed"
    },
    "tags": []
   },
   "outputs": [],
   "source": [
    "best_model = max(results, key=lambda x: results[x]['roc_auc'])\n",
    "best_pipeline = Pipeline([\n",
    "    ('preprocessor', preprocessor),\n",
    "    ('classifier', models[best_model])\n",
    "])\n",
    "best_pipeline.fit(X_train_resampled, y_train_resampled)"
   ]
  },
  {
   "cell_type": "markdown",
   "id": "7c057b6c",
   "metadata": {
    "papermill": {
     "duration": 0.035006,
     "end_time": "2024-07-10T06:02:32.133074",
     "exception": false,
     "start_time": "2024-07-10T06:02:32.098068",
     "status": "completed"
    },
    "tags": []
   },
   "source": [
    "## 10. Final Model Evaluation"
   ]
  },
  {
   "cell_type": "code",
   "execution_count": null,
   "id": "c6e51515",
   "metadata": {
    "execution": {
     "iopub.execute_input": "2024-07-10T06:02:32.201251Z",
     "iopub.status.busy": "2024-07-10T06:02:32.200829Z",
     "iopub.status.idle": "2024-07-10T06:02:32.314088Z",
     "shell.execute_reply": "2024-07-10T06:02:32.312929Z"
    },
    "papermill": {
     "duration": 0.151067,
     "end_time": "2024-07-10T06:02:32.317084",
     "exception": false,
     "start_time": "2024-07-10T06:02:32.166017",
     "status": "completed"
    },
    "tags": []
   },
   "outputs": [],
   "source": [
    "final_model = best_pipeline\n",
    "final_predictions = final_model.predict(X_test)\n",
    "final_proba = final_model.predict_proba(X_test)[:, 1]\n",
    "\n",
    "print(\"\\nFinal Model Evaluation:\")\n",
    "print(f\"Accuracy: {final_model.score(X_test, y_test):.4f}\")\n",
    "print(f\"ROC AUC: {roc_auc_score(y_test, final_proba):.4f}\")\n",
    "print(\"Confusion Matrix:\")\n",
    "print(confusion_matrix(y_test, final_predictions))\n",
    "print(\"Classification Report:\")\n",
    "print(classification_report(y_test, final_predictions))"
   ]
  },
  {
   "cell_type": "markdown",
   "id": "ed5dedfa",
   "metadata": {
    "papermill": {
     "duration": 0.033108,
     "end_time": "2024-07-10T06:02:32.384433",
     "exception": false,
     "start_time": "2024-07-10T06:02:32.351325",
     "status": "completed"
    },
    "tags": []
   },
   "source": [
    "## 11. ROC Curve Visualization"
   ]
  },
  {
   "cell_type": "code",
   "execution_count": null,
   "id": "a0138bd2",
   "metadata": {
    "execution": {
     "iopub.execute_input": "2024-07-10T06:02:32.453586Z",
     "iopub.status.busy": "2024-07-10T06:02:32.452692Z",
     "iopub.status.idle": "2024-07-10T06:02:32.779918Z",
     "shell.execute_reply": "2024-07-10T06:02:32.778741Z"
    },
    "papermill": {
     "duration": 0.364705,
     "end_time": "2024-07-10T06:02:32.782945",
     "exception": false,
     "start_time": "2024-07-10T06:02:32.418240",
     "status": "completed"
    },
    "tags": []
   },
   "outputs": [],
   "source": [
    "\n",
    "from sklearn.metrics import roc_curve\n",
    "\n",
    "fpr, tpr, _ = roc_curve(y_test, final_proba)\n",
    "plt.figure(figsize=(8, 6))\n",
    "plt.plot(fpr, tpr, label=f'ROC Curve (AUC = {roc_auc_score(y_test, final_proba):.2f})')\n",
    "plt.plot([0, 1], [0, 1], linestyle='--', label='Random Classifier')\n",
    "plt.xlabel('False Positive Rate')\n",
    "plt.ylabel('True Positive Rate')\n",
    "plt.title('Receiver Operating Characteristic (ROC) Curve')\n",
    "plt.legend()\n",
    "plt.show()"
   ]
  },
  {
   "cell_type": "code",
   "execution_count": null,
   "id": "c5551a0d",
   "metadata": {
    "papermill": {
     "duration": 0.034253,
     "end_time": "2024-07-10T06:02:32.851321",
     "exception": false,
     "start_time": "2024-07-10T06:02:32.817068",
     "status": "completed"
    },
    "tags": []
   },
   "outputs": [],
   "source": []
  }
 ],
 "metadata": {
  "kaggle": {
   "accelerator": "none",
   "dataSources": [
    {
     "datasetId": 1120859,
     "sourceId": 1882037,
     "sourceType": "datasetVersion"
    }
   ],
   "dockerImageVersionId": 30732,
   "isGpuEnabled": false,
   "isInternetEnabled": true,
   "language": "python",
   "sourceType": "notebook"
  },
  "kernelspec": {
   "display_name": "Python 3",
   "language": "python",
   "name": "python3"
  },
  "language_info": {
   "codemirror_mode": {
    "name": "ipython",
    "version": 3
   },
   "file_extension": ".py",
   "mimetype": "text/x-python",
   "name": "python",
   "nbconvert_exporter": "python",
   "pygments_lexer": "ipython3",
   "version": "3.9.6"
  },
  "papermill": {
   "default_parameters": {},
   "duration": 27.686914,
   "end_time": "2024-07-10T06:02:34.413087",
   "environment_variables": {},
   "exception": null,
   "input_path": "__notebook__.ipynb",
   "output_path": "__notebook__.ipynb",
   "parameters": {},
   "start_time": "2024-07-10T06:02:06.726173",
   "version": "2.5.0"
  }
 },
 "nbformat": 4,
 "nbformat_minor": 5
}
